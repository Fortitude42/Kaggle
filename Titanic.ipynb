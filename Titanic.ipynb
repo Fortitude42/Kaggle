{
 "cells": [
  {
   "cell_type": "code",
   "execution_count": 1,
   "id": "d3fb5810",
   "metadata": {
    "_cell_guid": "b1076dfc-b9ad-4769-8c92-a6c4dae69d19",
    "_uuid": "8f2839f25d086af736a60e9eeb907d3b93b6e0e5",
    "execution": {
     "iopub.execute_input": "2023-03-03T15:26:23.024409Z",
     "iopub.status.busy": "2023-03-03T15:26:23.023771Z",
     "iopub.status.idle": "2023-03-03T15:26:23.032971Z",
     "shell.execute_reply": "2023-03-03T15:26:23.032028Z"
    },
    "papermill": {
     "duration": 0.020526,
     "end_time": "2023-03-03T15:26:23.035333",
     "exception": false,
     "start_time": "2023-03-03T15:26:23.014807",
     "status": "completed"
    },
    "tags": []
   },
   "outputs": [],
   "source": [
    "import numpy as np\n",
    "import pandas as pd\n",
    "from pandas import DataFrame as df"
   ]
  },
  {
   "cell_type": "code",
   "execution_count": 2,
   "id": "9afb685a",
   "metadata": {
    "execution": {
     "iopub.execute_input": "2023-03-03T15:26:23.047493Z",
     "iopub.status.busy": "2023-03-03T15:26:23.047062Z",
     "iopub.status.idle": "2023-03-03T15:26:23.102999Z",
     "shell.execute_reply": "2023-03-03T15:26:23.101624Z"
    },
    "papermill": {
     "duration": 0.064889,
     "end_time": "2023-03-03T15:26:23.105510",
     "exception": false,
     "start_time": "2023-03-03T15:26:23.040621",
     "status": "completed"
    },
    "tags": []
   },
   "outputs": [
    {
     "data": {
      "text/html": [
       "<div>\n",
       "<style scoped>\n",
       "    .dataframe tbody tr th:only-of-type {\n",
       "        vertical-align: middle;\n",
       "    }\n",
       "\n",
       "    .dataframe tbody tr th {\n",
       "        vertical-align: top;\n",
       "    }\n",
       "\n",
       "    .dataframe thead th {\n",
       "        text-align: right;\n",
       "    }\n",
       "</style>\n",
       "<table border=\"1\" class=\"dataframe\">\n",
       "  <thead>\n",
       "    <tr style=\"text-align: right;\">\n",
       "      <th></th>\n",
       "      <th>Survived</th>\n",
       "      <th>Pclass</th>\n",
       "      <th>Name</th>\n",
       "      <th>Sex</th>\n",
       "      <th>Age</th>\n",
       "      <th>SibSp</th>\n",
       "      <th>Parch</th>\n",
       "      <th>Ticket</th>\n",
       "      <th>Fare</th>\n",
       "      <th>Cabin</th>\n",
       "      <th>Embarked</th>\n",
       "    </tr>\n",
       "    <tr>\n",
       "      <th>PassengerId</th>\n",
       "      <th></th>\n",
       "      <th></th>\n",
       "      <th></th>\n",
       "      <th></th>\n",
       "      <th></th>\n",
       "      <th></th>\n",
       "      <th></th>\n",
       "      <th></th>\n",
       "      <th></th>\n",
       "      <th></th>\n",
       "      <th></th>\n",
       "    </tr>\n",
       "  </thead>\n",
       "  <tbody>\n",
       "    <tr>\n",
       "      <th>1</th>\n",
       "      <td>0</td>\n",
       "      <td>3</td>\n",
       "      <td>Braund, Mr. Owen Harris</td>\n",
       "      <td>male</td>\n",
       "      <td>22.0</td>\n",
       "      <td>1</td>\n",
       "      <td>0</td>\n",
       "      <td>A/5 21171</td>\n",
       "      <td>7.2500</td>\n",
       "      <td>NaN</td>\n",
       "      <td>S</td>\n",
       "    </tr>\n",
       "    <tr>\n",
       "      <th>2</th>\n",
       "      <td>1</td>\n",
       "      <td>1</td>\n",
       "      <td>Cumings, Mrs. John Bradley (Florence Briggs Th...</td>\n",
       "      <td>female</td>\n",
       "      <td>38.0</td>\n",
       "      <td>1</td>\n",
       "      <td>0</td>\n",
       "      <td>PC 17599</td>\n",
       "      <td>71.2833</td>\n",
       "      <td>C85</td>\n",
       "      <td>C</td>\n",
       "    </tr>\n",
       "    <tr>\n",
       "      <th>3</th>\n",
       "      <td>1</td>\n",
       "      <td>3</td>\n",
       "      <td>Heikkinen, Miss. Laina</td>\n",
       "      <td>female</td>\n",
       "      <td>26.0</td>\n",
       "      <td>0</td>\n",
       "      <td>0</td>\n",
       "      <td>STON/O2. 3101282</td>\n",
       "      <td>7.9250</td>\n",
       "      <td>NaN</td>\n",
       "      <td>S</td>\n",
       "    </tr>\n",
       "    <tr>\n",
       "      <th>4</th>\n",
       "      <td>1</td>\n",
       "      <td>1</td>\n",
       "      <td>Futrelle, Mrs. Jacques Heath (Lily May Peel)</td>\n",
       "      <td>female</td>\n",
       "      <td>35.0</td>\n",
       "      <td>1</td>\n",
       "      <td>0</td>\n",
       "      <td>113803</td>\n",
       "      <td>53.1000</td>\n",
       "      <td>C123</td>\n",
       "      <td>S</td>\n",
       "    </tr>\n",
       "    <tr>\n",
       "      <th>5</th>\n",
       "      <td>0</td>\n",
       "      <td>3</td>\n",
       "      <td>Allen, Mr. William Henry</td>\n",
       "      <td>male</td>\n",
       "      <td>35.0</td>\n",
       "      <td>0</td>\n",
       "      <td>0</td>\n",
       "      <td>373450</td>\n",
       "      <td>8.0500</td>\n",
       "      <td>NaN</td>\n",
       "      <td>S</td>\n",
       "    </tr>\n",
       "  </tbody>\n",
       "</table>\n",
       "</div>"
      ],
      "text/plain": [
       "             Survived  Pclass  \\\n",
       "PassengerId                     \n",
       "1                   0       3   \n",
       "2                   1       1   \n",
       "3                   1       3   \n",
       "4                   1       1   \n",
       "5                   0       3   \n",
       "\n",
       "                                                          Name     Sex   Age  \\\n",
       "PassengerId                                                                    \n",
       "1                                      Braund, Mr. Owen Harris    male  22.0   \n",
       "2            Cumings, Mrs. John Bradley (Florence Briggs Th...  female  38.0   \n",
       "3                                       Heikkinen, Miss. Laina  female  26.0   \n",
       "4                 Futrelle, Mrs. Jacques Heath (Lily May Peel)  female  35.0   \n",
       "5                                     Allen, Mr. William Henry    male  35.0   \n",
       "\n",
       "             SibSp  Parch            Ticket     Fare Cabin Embarked  \n",
       "PassengerId                                                          \n",
       "1                1      0         A/5 21171   7.2500   NaN        S  \n",
       "2                1      0          PC 17599  71.2833   C85        C  \n",
       "3                0      0  STON/O2. 3101282   7.9250   NaN        S  \n",
       "4                1      0            113803  53.1000  C123        S  \n",
       "5                0      0            373450   8.0500   NaN        S  "
      ]
     },
     "execution_count": 2,
     "metadata": {},
     "output_type": "execute_result"
    }
   ],
   "source": [
    "train_df = pd.read_csv('/kaggle/input/titanic/train.csv', index_col=0)\n",
    "train_df.head(5)"
   ]
  },
  {
   "cell_type": "code",
   "execution_count": 3,
   "id": "a5f9e624",
   "metadata": {
    "execution": {
     "iopub.execute_input": "2023-03-03T15:26:23.118426Z",
     "iopub.status.busy": "2023-03-03T15:26:23.118014Z",
     "iopub.status.idle": "2023-03-03T15:26:23.126603Z",
     "shell.execute_reply": "2023-03-03T15:26:23.125405Z"
    },
    "papermill": {
     "duration": 0.017941,
     "end_time": "2023-03-03T15:26:23.129091",
     "exception": false,
     "start_time": "2023-03-03T15:26:23.111150",
     "status": "completed"
    },
    "tags": []
   },
   "outputs": [
    {
     "data": {
      "text/plain": [
       "Survived      int64\n",
       "Pclass        int64\n",
       "Name         object\n",
       "Sex          object\n",
       "Age         float64\n",
       "SibSp         int64\n",
       "Parch         int64\n",
       "Ticket       object\n",
       "Fare        float64\n",
       "Cabin        object\n",
       "Embarked     object\n",
       "dtype: object"
      ]
     },
     "execution_count": 3,
     "metadata": {},
     "output_type": "execute_result"
    }
   ],
   "source": [
    "train_df.dtypes"
   ]
  },
  {
   "cell_type": "code",
   "execution_count": 4,
   "id": "4ffe84b5",
   "metadata": {
    "execution": {
     "iopub.execute_input": "2023-03-03T15:26:23.142604Z",
     "iopub.status.busy": "2023-03-03T15:26:23.141812Z",
     "iopub.status.idle": "2023-03-03T15:26:24.170258Z",
     "shell.execute_reply": "2023-03-03T15:26:24.169063Z"
    },
    "papermill": {
     "duration": 1.038536,
     "end_time": "2023-03-03T15:26:24.173173",
     "exception": false,
     "start_time": "2023-03-03T15:26:23.134637",
     "status": "completed"
    },
    "tags": []
   },
   "outputs": [],
   "source": [
    "from sklearn.preprocessing import LabelEncoder\n",
    "le = LabelEncoder()\n",
    "\n",
    "mean, std = dict(), dict()\n",
    "\n",
    "\n",
    "def normalize(df, train):\n",
    "    for col in df:\n",
    "        if col == 'Survived':\n",
    "            continue\n",
    "        if df[col].dtype == object:\n",
    "            le.fit(df[col])\n",
    "            df[col] = le.transform(df[col])\n",
    "            \n",
    "        df[col] = df[col].astype(float)\n",
    "        if train:\n",
    "            mean[col] = df[col].mean()\n",
    "            std[col] = df[col].std()\n",
    "        \n",
    "        df[col].fillna(mean[col], inplace=True)        \n",
    "        df[col] = (df[col] - mean[col]) / std[col]    \n",
    "    \n",
    "    df.drop('Name', axis=1, inplace=True)    "
   ]
  },
  {
   "cell_type": "code",
   "execution_count": 5,
   "id": "b2052b2e",
   "metadata": {
    "execution": {
     "iopub.execute_input": "2023-03-03T15:26:24.186353Z",
     "iopub.status.busy": "2023-03-03T15:26:24.185930Z",
     "iopub.status.idle": "2023-03-03T15:26:24.258157Z",
     "shell.execute_reply": "2023-03-03T15:26:24.256816Z"
    },
    "papermill": {
     "duration": 0.082188,
     "end_time": "2023-03-03T15:26:24.261065",
     "exception": false,
     "start_time": "2023-03-03T15:26:24.178877",
     "status": "completed"
    },
    "tags": []
   },
   "outputs": [
    {
     "data": {
      "text/html": [
       "<div>\n",
       "<style scoped>\n",
       "    .dataframe tbody tr th:only-of-type {\n",
       "        vertical-align: middle;\n",
       "    }\n",
       "\n",
       "    .dataframe tbody tr th {\n",
       "        vertical-align: top;\n",
       "    }\n",
       "\n",
       "    .dataframe thead th {\n",
       "        text-align: right;\n",
       "    }\n",
       "</style>\n",
       "<table border=\"1\" class=\"dataframe\">\n",
       "  <thead>\n",
       "    <tr style=\"text-align: right;\">\n",
       "      <th></th>\n",
       "      <th>Survived</th>\n",
       "      <th>Pclass</th>\n",
       "      <th>Sex</th>\n",
       "      <th>Age</th>\n",
       "      <th>SibSp</th>\n",
       "      <th>Parch</th>\n",
       "      <th>Ticket</th>\n",
       "      <th>Fare</th>\n",
       "      <th>Cabin</th>\n",
       "      <th>Embarked</th>\n",
       "    </tr>\n",
       "  </thead>\n",
       "  <tbody>\n",
       "    <tr>\n",
       "      <th>count</th>\n",
       "      <td>891.000000</td>\n",
       "      <td>8.910000e+02</td>\n",
       "      <td>8.910000e+02</td>\n",
       "      <td>8.910000e+02</td>\n",
       "      <td>8.910000e+02</td>\n",
       "      <td>8.910000e+02</td>\n",
       "      <td>8.910000e+02</td>\n",
       "      <td>8.910000e+02</td>\n",
       "      <td>8.910000e+02</td>\n",
       "      <td>8.910000e+02</td>\n",
       "    </tr>\n",
       "    <tr>\n",
       "      <th>mean</th>\n",
       "      <td>0.383838</td>\n",
       "      <td>-7.575933e-17</td>\n",
       "      <td>-1.315820e-16</td>\n",
       "      <td>1.874046e-16</td>\n",
       "      <td>3.588600e-17</td>\n",
       "      <td>4.585433e-17</td>\n",
       "      <td>6.778466e-17</td>\n",
       "      <td>-1.196200e-17</td>\n",
       "      <td>2.432273e-16</td>\n",
       "      <td>6.579099e-17</td>\n",
       "    </tr>\n",
       "    <tr>\n",
       "      <th>std</th>\n",
       "      <td>0.486592</td>\n",
       "      <td>1.000000e+00</td>\n",
       "      <td>1.000000e+00</td>\n",
       "      <td>8.950551e-01</td>\n",
       "      <td>1.000000e+00</td>\n",
       "      <td>1.000000e+00</td>\n",
       "      <td>1.000000e+00</td>\n",
       "      <td>1.000000e+00</td>\n",
       "      <td>1.000000e+00</td>\n",
       "      <td>1.000000e+00</td>\n",
       "    </tr>\n",
       "    <tr>\n",
       "      <th>min</th>\n",
       "      <td>0.000000</td>\n",
       "      <td>-1.565228e+00</td>\n",
       "      <td>-1.354813e+00</td>\n",
       "      <td>-2.015566e+00</td>\n",
       "      <td>-4.742788e-01</td>\n",
       "      <td>-4.734077e-01</td>\n",
       "      <td>-1.685474e+00</td>\n",
       "      <td>-6.480577e-01</td>\n",
       "      <td>-3.629337e+00</td>\n",
       "      <td>-1.937372e+00</td>\n",
       "    </tr>\n",
       "    <tr>\n",
       "      <th>25%</th>\n",
       "      <td>0.000000</td>\n",
       "      <td>-3.691575e-01</td>\n",
       "      <td>-1.354813e+00</td>\n",
       "      <td>-5.300051e-01</td>\n",
       "      <td>-4.742788e-01</td>\n",
       "      <td>-4.734077e-01</td>\n",
       "      <td>-8.963307e-01</td>\n",
       "      <td>-4.888737e-01</td>\n",
       "      <td>4.512488e-01</td>\n",
       "      <td>-6.782923e-01</td>\n",
       "    </tr>\n",
       "    <tr>\n",
       "      <th>50%</th>\n",
       "      <td>0.000000</td>\n",
       "      <td>8.269128e-01</td>\n",
       "      <td>7.372810e-01</td>\n",
       "      <td>0.000000e+00</td>\n",
       "      <td>-4.742788e-01</td>\n",
       "      <td>-4.734077e-01</td>\n",
       "      <td>-7.610727e-03</td>\n",
       "      <td>-3.571902e-01</td>\n",
       "      <td>4.512488e-01</td>\n",
       "      <td>5.807877e-01</td>\n",
       "    </tr>\n",
       "    <tr>\n",
       "      <th>75%</th>\n",
       "      <td>1.000000</td>\n",
       "      <td>8.269128e-01</td>\n",
       "      <td>7.372810e-01</td>\n",
       "      <td>3.649113e-01</td>\n",
       "      <td>4.325504e-01</td>\n",
       "      <td>-4.734077e-01</td>\n",
       "      <td>9.010246e-01</td>\n",
       "      <td>-2.423274e-02</td>\n",
       "      <td>4.512488e-01</td>\n",
       "      <td>5.807877e-01</td>\n",
       "    </tr>\n",
       "    <tr>\n",
       "      <th>max</th>\n",
       "      <td>1.000000</td>\n",
       "      <td>8.269128e-01</td>\n",
       "      <td>7.372810e-01</td>\n",
       "      <td>3.462699e+00</td>\n",
       "      <td>6.780355e+00</td>\n",
       "      <td>6.970233e+00</td>\n",
       "      <td>1.700126e+00</td>\n",
       "      <td>9.661740e+00</td>\n",
       "      <td>4.512488e-01</td>\n",
       "      <td>1.839868e+00</td>\n",
       "    </tr>\n",
       "  </tbody>\n",
       "</table>\n",
       "</div>"
      ],
      "text/plain": [
       "         Survived        Pclass           Sex           Age         SibSp  \\\n",
       "count  891.000000  8.910000e+02  8.910000e+02  8.910000e+02  8.910000e+02   \n",
       "mean     0.383838 -7.575933e-17 -1.315820e-16  1.874046e-16  3.588600e-17   \n",
       "std      0.486592  1.000000e+00  1.000000e+00  8.950551e-01  1.000000e+00   \n",
       "min      0.000000 -1.565228e+00 -1.354813e+00 -2.015566e+00 -4.742788e-01   \n",
       "25%      0.000000 -3.691575e-01 -1.354813e+00 -5.300051e-01 -4.742788e-01   \n",
       "50%      0.000000  8.269128e-01  7.372810e-01  0.000000e+00 -4.742788e-01   \n",
       "75%      1.000000  8.269128e-01  7.372810e-01  3.649113e-01  4.325504e-01   \n",
       "max      1.000000  8.269128e-01  7.372810e-01  3.462699e+00  6.780355e+00   \n",
       "\n",
       "              Parch        Ticket          Fare         Cabin      Embarked  \n",
       "count  8.910000e+02  8.910000e+02  8.910000e+02  8.910000e+02  8.910000e+02  \n",
       "mean   4.585433e-17  6.778466e-17 -1.196200e-17  2.432273e-16  6.579099e-17  \n",
       "std    1.000000e+00  1.000000e+00  1.000000e+00  1.000000e+00  1.000000e+00  \n",
       "min   -4.734077e-01 -1.685474e+00 -6.480577e-01 -3.629337e+00 -1.937372e+00  \n",
       "25%   -4.734077e-01 -8.963307e-01 -4.888737e-01  4.512488e-01 -6.782923e-01  \n",
       "50%   -4.734077e-01 -7.610727e-03 -3.571902e-01  4.512488e-01  5.807877e-01  \n",
       "75%   -4.734077e-01  9.010246e-01 -2.423274e-02  4.512488e-01  5.807877e-01  \n",
       "max    6.970233e+00  1.700126e+00  9.661740e+00  4.512488e-01  1.839868e+00  "
      ]
     },
     "execution_count": 5,
     "metadata": {},
     "output_type": "execute_result"
    }
   ],
   "source": [
    "normalize(train_df, True)\n",
    "train_df.describe()"
   ]
  },
  {
   "cell_type": "code",
   "execution_count": 6,
   "id": "fad717f0",
   "metadata": {
    "execution": {
     "iopub.execute_input": "2023-03-03T15:26:24.275681Z",
     "iopub.status.busy": "2023-03-03T15:26:24.274618Z",
     "iopub.status.idle": "2023-03-03T15:26:26.701595Z",
     "shell.execute_reply": "2023-03-03T15:26:26.700233Z"
    },
    "papermill": {
     "duration": 2.437424,
     "end_time": "2023-03-03T15:26:26.704622",
     "exception": false,
     "start_time": "2023-03-03T15:26:24.267198",
     "status": "completed"
    },
    "tags": []
   },
   "outputs": [],
   "source": [
    "from torch.utils.data import Dataset, DataLoader\n",
    "from torch import tensor\n",
    "import torch\n",
    "\n",
    "\n",
    "def get_probabilities(df):\n",
    "    survived, nsurvived = tensor(df['Survived'].values), tensor((1 - df['Survived']).values)\n",
    "    survived, nsurvived = survived.view(survived.shape[0], 1), nsurvived.view(nsurvived.shape[0], 1)\n",
    "    return torch.cat((nsurvived, survived), axis=1).float()\n",
    "\n",
    "class CustomDataset(Dataset):\n",
    "    def __init__(self, df):        \n",
    "        self.X = tensor(df.drop('Survived', axis=1).values)\n",
    "        self.Y = get_probabilities(df)\n",
    "        \n",
    "    def __len__(self):\n",
    "        return self.X.shape[0]\n",
    "    \n",
    "    def __getitem__(self, index):\n",
    "        return self.X[index], self.Y[index]\n",
    "    "
   ]
  },
  {
   "cell_type": "code",
   "execution_count": 7,
   "id": "b90bf181",
   "metadata": {
    "execution": {
     "iopub.execute_input": "2023-03-03T15:26:26.718899Z",
     "iopub.status.busy": "2023-03-03T15:26:26.718281Z",
     "iopub.status.idle": "2023-03-03T15:26:26.730229Z",
     "shell.execute_reply": "2023-03-03T15:26:26.728860Z"
    },
    "papermill": {
     "duration": 0.022042,
     "end_time": "2023-03-03T15:26:26.732659",
     "exception": false,
     "start_time": "2023-03-03T15:26:26.710617",
     "status": "completed"
    },
    "tags": []
   },
   "outputs": [],
   "source": [
    "from torch import nn\n",
    "class Net(nn.Module):\n",
    "    def __init__(self, input_size, hidden_size1, dropout1, hidden_size2, dropout2, hidden_size3, dropout3, output_size):\n",
    "        super(Net, self).__init__()\n",
    "        self.fc1 = nn.Sequential(\n",
    "            nn.Flatten(),\n",
    "            nn.LazyLinear(hidden_size1, dtype=float),\n",
    "            nn.ReLU(),        \n",
    "        )\n",
    "        \n",
    "        self.dropout1 = nn.Dropout(dropout1)\n",
    "        \n",
    "        self.fc2 = nn.Sequential(\n",
    "            nn.LazyLinear(hidden_size2, dtype=float),\n",
    "            nn.ReLU(),\n",
    "        )\n",
    "        \n",
    "        self.dropout2 = nn.Dropout(dropout2)\n",
    "        \n",
    "        self.fc3 = nn.Sequential(\n",
    "            nn.LazyLinear(hidden_size3, dtype=float),\n",
    "            nn.ReLU(),\n",
    "        )\n",
    "        \n",
    "        self.dropout3 = nn.Dropout(dropout3)\n",
    "        \n",
    "        self.fc4 = nn.LazyLinear(output_size, dtype=float)\n",
    "        \n",
    "                \n",
    "        \n",
    "    def forward(self, x):                \n",
    "        y = self.fc1(x)\n",
    "        if self.train:\n",
    "            y = self.dropout1(y)\n",
    "            \n",
    "        y = self.fc2(y)        \n",
    "        if self.train:\n",
    "            y = self.dropout2(y)\n",
    "            \n",
    "        y = self.fc3(y)\n",
    "        \n",
    "        if self.train:\n",
    "            y = self.dropout3(y)\n",
    "            \n",
    "        y = self.fc4(y)\n",
    "        return y\n"
   ]
  },
  {
   "cell_type": "code",
   "execution_count": 8,
   "id": "262c84a2",
   "metadata": {
    "execution": {
     "iopub.execute_input": "2023-03-03T15:26:26.746441Z",
     "iopub.status.busy": "2023-03-03T15:26:26.745648Z",
     "iopub.status.idle": "2023-03-03T15:26:26.753332Z",
     "shell.execute_reply": "2023-03-03T15:26:26.752095Z"
    },
    "papermill": {
     "duration": 0.017437,
     "end_time": "2023-03-03T15:26:26.755989",
     "exception": false,
     "start_time": "2023-03-03T15:26:26.738552",
     "status": "completed"
    },
    "tags": []
   },
   "outputs": [],
   "source": [
    "hparams = {\n",
    "    'input_size': train_df.shape[1] - 2,\n",
    "    'hidden_size1': 100,\n",
    "    'dropout1': 0,\n",
    "    'hidden_size2': 500,\n",
    "    'dropout2': 0.5,\n",
    "    'hidden_size3': 250,\n",
    "    'dropout3': 0.25,\n",
    "    'output_size': 2,    \n",
    "}"
   ]
  },
  {
   "cell_type": "code",
   "execution_count": 9,
   "id": "9116a73d",
   "metadata": {
    "execution": {
     "iopub.execute_input": "2023-03-03T15:26:26.769481Z",
     "iopub.status.busy": "2023-03-03T15:26:26.769081Z",
     "iopub.status.idle": "2023-03-03T15:26:26.774446Z",
     "shell.execute_reply": "2023-03-03T15:26:26.773224Z"
    },
    "papermill": {
     "duration": 0.015127,
     "end_time": "2023-03-03T15:26:26.777051",
     "exception": false,
     "start_time": "2023-03-03T15:26:26.761924",
     "status": "completed"
    },
    "tags": []
   },
   "outputs": [],
   "source": [
    "criterion = torch.nn.CrossEntropyLoss()"
   ]
  },
  {
   "cell_type": "code",
   "execution_count": 10,
   "id": "d259eaf4",
   "metadata": {
    "execution": {
     "iopub.execute_input": "2023-03-03T15:26:26.790921Z",
     "iopub.status.busy": "2023-03-03T15:26:26.790503Z",
     "iopub.status.idle": "2023-03-03T15:26:26.800382Z",
     "shell.execute_reply": "2023-03-03T15:26:26.799229Z"
    },
    "papermill": {
     "duration": 0.02042,
     "end_time": "2023-03-03T15:26:26.803425",
     "exception": false,
     "start_time": "2023-03-03T15:26:26.783005",
     "status": "completed"
    },
    "tags": []
   },
   "outputs": [],
   "source": [
    "def train(df, ec, lr, wd):\n",
    "    model = Net(**hparams)\n",
    "    model.train()\n",
    "    \n",
    "    optimizer = torch.optim.SGD(model.parameters(), lr=lr, weight_decay=wd)\n",
    "    dataset = CustomDataset(df)\n",
    "    dataloader = DataLoader(dataset, batch_size=32, shuffle=True)\n",
    "    \n",
    "    for epoch in range(ec):\n",
    "        correct = 0\n",
    "        total = 0\n",
    "\n",
    "        for batch in dataloader:\n",
    "            x_tensor, y_tensor = batch                                           \n",
    "            y_pred = model(x_tensor)\n",
    "            loss = criterion(y_pred, y_tensor)        \n",
    "\n",
    "            predictions = torch.argmax(y_pred, dim=1)\n",
    "            targets = torch.argmax(y_tensor, dim=1)\n",
    "            total += predictions.shape[0]\n",
    "            correct += (predictions==targets).sum().item()\n",
    "\n",
    "            assert not torch.isnan(loss)\n",
    "            optimizer.zero_grad()\n",
    "            loss.backward()\n",
    "            optimizer.step()\n",
    "\n",
    "    return model\n",
    "    "
   ]
  },
  {
   "cell_type": "code",
   "execution_count": 11,
   "id": "481013a0",
   "metadata": {
    "execution": {
     "iopub.execute_input": "2023-03-03T15:26:26.817630Z",
     "iopub.status.busy": "2023-03-03T15:26:26.817208Z",
     "iopub.status.idle": "2023-03-03T15:26:26.826337Z",
     "shell.execute_reply": "2023-03-03T15:26:26.825029Z"
    },
    "papermill": {
     "duration": 0.019459,
     "end_time": "2023-03-03T15:26:26.828969",
     "exception": false,
     "start_time": "2023-03-03T15:26:26.809510",
     "status": "completed"
    },
    "tags": []
   },
   "outputs": [],
   "source": [
    "def k_fold(df, ec, lr, wd, k = 5):\n",
    "    fold_indices = np.array_split(np.arange(len(df)), k)    \n",
    "    total = 0\n",
    "    correct = 0\n",
    "    \n",
    "    for fold in range(k):\n",
    "        test_indices = fold_indices[fold]\n",
    "        train_indices = np.concatenate(fold_indices[:fold] + fold_indices[fold+1:])\n",
    "        \n",
    "        model = train(df.iloc[train_indices], ec, lr, wd)        \n",
    "        model.eval()\n",
    "        \n",
    "        x_tensor, y_tensor = tensor(df.values[test_indices, :-1]), get_probabilities(df.iloc[test_indices])\n",
    "        y_pred = model(x_tensor)    \n",
    "        correct += (torch.argmax(y_pred, dim=1) == torch.argmax(y_tensor, dim=1)).sum().item()\n",
    "        total += y_pred.shape[0]\n",
    "    \n",
    "    return round(100*correct / total, 2)"
   ]
  },
  {
   "cell_type": "code",
   "execution_count": 12,
   "id": "ee7389e8",
   "metadata": {
    "execution": {
     "iopub.execute_input": "2023-03-03T15:26:26.842906Z",
     "iopub.status.busy": "2023-03-03T15:26:26.842067Z",
     "iopub.status.idle": "2023-03-03T15:26:26.847154Z",
     "shell.execute_reply": "2023-03-03T15:26:26.846299Z"
    },
    "papermill": {
     "duration": 0.014729,
     "end_time": "2023-03-03T15:26:26.849489",
     "exception": false,
     "start_time": "2023-03-03T15:26:26.834760",
     "status": "completed"
    },
    "tags": []
   },
   "outputs": [],
   "source": [
    "# candidates = [0, 1e-5, 1e-4, 1e-3, 1e-2, 1e-1]\n",
    "\n",
    "# for candidate in candidates:    \n",
    "#     print(candidate, k_fold(train_df, ec=250, lr=1.5e-2, wd=candidate))"
   ]
  },
  {
   "cell_type": "code",
   "execution_count": 13,
   "id": "3d71fe31",
   "metadata": {
    "execution": {
     "iopub.execute_input": "2023-03-03T15:26:26.863238Z",
     "iopub.status.busy": "2023-03-03T15:26:26.862804Z",
     "iopub.status.idle": "2023-03-03T15:27:00.583207Z",
     "shell.execute_reply": "2023-03-03T15:27:00.582016Z"
    },
    "papermill": {
     "duration": 33.736341,
     "end_time": "2023-03-03T15:27:00.591674",
     "exception": false,
     "start_time": "2023-03-03T15:26:26.855333",
     "status": "completed"
    },
    "tags": []
   },
   "outputs": [
    {
     "name": "stderr",
     "output_type": "stream",
     "text": [
      "/opt/conda/lib/python3.7/site-packages/torch/nn/modules/lazy.py:180: UserWarning: Lazy modules are a new feature under heavy development so changes to the API or functionality can happen at any moment.\n",
      "  warnings.warn('Lazy modules are a new feature under heavy development '\n"
     ]
    },
    {
     "data": {
      "text/plain": [
       "Net(\n",
       "  (fc1): Sequential(\n",
       "    (0): Flatten(start_dim=1, end_dim=-1)\n",
       "    (1): Linear(in_features=9, out_features=100, bias=True)\n",
       "    (2): ReLU()\n",
       "  )\n",
       "  (dropout1): Dropout(p=0, inplace=False)\n",
       "  (fc2): Sequential(\n",
       "    (0): Linear(in_features=100, out_features=500, bias=True)\n",
       "    (1): ReLU()\n",
       "  )\n",
       "  (dropout2): Dropout(p=0.5, inplace=False)\n",
       "  (fc3): Sequential(\n",
       "    (0): Linear(in_features=500, out_features=250, bias=True)\n",
       "    (1): ReLU()\n",
       "  )\n",
       "  (dropout3): Dropout(p=0.25, inplace=False)\n",
       "  (fc4): Linear(in_features=250, out_features=2, bias=True)\n",
       ")"
      ]
     },
     "execution_count": 13,
     "metadata": {},
     "output_type": "execute_result"
    }
   ],
   "source": [
    "model = train(train_df, ec=460, lr=1.5e-2, wd=1e-5)\n",
    "model.eval()"
   ]
  },
  {
   "cell_type": "code",
   "execution_count": 14,
   "id": "bf53651d",
   "metadata": {
    "execution": {
     "iopub.execute_input": "2023-03-03T15:27:00.606730Z",
     "iopub.status.busy": "2023-03-03T15:27:00.606322Z",
     "iopub.status.idle": "2023-03-03T15:27:00.622471Z",
     "shell.execute_reply": "2023-03-03T15:27:00.621140Z"
    },
    "papermill": {
     "duration": 0.026671,
     "end_time": "2023-03-03T15:27:00.625385",
     "exception": false,
     "start_time": "2023-03-03T15:27:00.598714",
     "status": "completed"
    },
    "tags": []
   },
   "outputs": [],
   "source": [
    "test_df = pd.read_csv('/kaggle/input/titanic/test.csv', index_col=0)"
   ]
  },
  {
   "cell_type": "code",
   "execution_count": 15,
   "id": "7707b0fe",
   "metadata": {
    "execution": {
     "iopub.execute_input": "2023-03-03T15:27:00.639986Z",
     "iopub.status.busy": "2023-03-03T15:27:00.639091Z",
     "iopub.status.idle": "2023-03-03T15:27:00.698492Z",
     "shell.execute_reply": "2023-03-03T15:27:00.697591Z"
    },
    "papermill": {
     "duration": 0.069667,
     "end_time": "2023-03-03T15:27:00.701146",
     "exception": false,
     "start_time": "2023-03-03T15:27:00.631479",
     "status": "completed"
    },
    "tags": []
   },
   "outputs": [
    {
     "data": {
      "text/html": [
       "<div>\n",
       "<style scoped>\n",
       "    .dataframe tbody tr th:only-of-type {\n",
       "        vertical-align: middle;\n",
       "    }\n",
       "\n",
       "    .dataframe tbody tr th {\n",
       "        vertical-align: top;\n",
       "    }\n",
       "\n",
       "    .dataframe thead th {\n",
       "        text-align: right;\n",
       "    }\n",
       "</style>\n",
       "<table border=\"1\" class=\"dataframe\">\n",
       "  <thead>\n",
       "    <tr style=\"text-align: right;\">\n",
       "      <th></th>\n",
       "      <th>Pclass</th>\n",
       "      <th>Sex</th>\n",
       "      <th>Age</th>\n",
       "      <th>SibSp</th>\n",
       "      <th>Parch</th>\n",
       "      <th>Ticket</th>\n",
       "      <th>Fare</th>\n",
       "      <th>Cabin</th>\n",
       "      <th>Embarked</th>\n",
       "    </tr>\n",
       "  </thead>\n",
       "  <tbody>\n",
       "    <tr>\n",
       "      <th>count</th>\n",
       "      <td>4.180000e+02</td>\n",
       "      <td>4.180000e+02</td>\n",
       "      <td>4.180000e+02</td>\n",
       "      <td>4.180000e+02</td>\n",
       "      <td>4.180000e+02</td>\n",
       "      <td>4.180000e+02</td>\n",
       "      <td>4.180000e+02</td>\n",
       "      <td>4.180000e+02</td>\n",
       "      <td>4.180000e+02</td>\n",
       "    </tr>\n",
       "    <tr>\n",
       "      <th>mean</th>\n",
       "      <td>-3.081002e-17</td>\n",
       "      <td>-3.824692e-17</td>\n",
       "      <td>3.505967e-17</td>\n",
       "      <td>-1.381139e-17</td>\n",
       "      <td>-5.524555e-17</td>\n",
       "      <td>-1.184592e-16</td>\n",
       "      <td>-1.912346e-17</td>\n",
       "      <td>1.019918e-16</td>\n",
       "      <td>-9.774212e-17</td>\n",
       "    </tr>\n",
       "    <tr>\n",
       "      <th>std</th>\n",
       "      <td>1.000000e+00</td>\n",
       "      <td>1.000000e+00</td>\n",
       "      <td>8.909349e-01</td>\n",
       "      <td>1.000000e+00</td>\n",
       "      <td>1.000000e+00</td>\n",
       "      <td>1.000000e+00</td>\n",
       "      <td>9.988002e-01</td>\n",
       "      <td>1.000000e+00</td>\n",
       "      <td>1.000000e+00</td>\n",
       "    </tr>\n",
       "    <tr>\n",
       "      <th>min</th>\n",
       "      <td>-1.503319e+00</td>\n",
       "      <td>-1.321292e+00</td>\n",
       "      <td>-2.122710e+00</td>\n",
       "      <td>-4.988722e-01</td>\n",
       "      <td>-3.997686e-01</td>\n",
       "      <td>-1.682681e+00</td>\n",
       "      <td>-6.372515e-01</td>\n",
       "      <td>-3.532364e+00</td>\n",
       "      <td>-1.640632e+00</td>\n",
       "    </tr>\n",
       "    <tr>\n",
       "      <th>25%</th>\n",
       "      <td>-1.503319e+00</td>\n",
       "      <td>-1.321292e+00</td>\n",
       "      <td>-5.128329e-01</td>\n",
       "      <td>-4.988722e-01</td>\n",
       "      <td>-3.997686e-01</td>\n",
       "      <td>-8.899063e-01</td>\n",
       "      <td>-4.960220e-01</td>\n",
       "      <td>4.484846e-01</td>\n",
       "      <td>-4.703517e-01</td>\n",
       "    </tr>\n",
       "    <tr>\n",
       "      <th>50%</th>\n",
       "      <td>8.724364e-01</td>\n",
       "      <td>7.550242e-01</td>\n",
       "      <td>0.000000e+00</td>\n",
       "      <td>-4.988722e-01</td>\n",
       "      <td>-3.997686e-01</td>\n",
       "      <td>5.116897e-04</td>\n",
       "      <td>-3.787141e-01</td>\n",
       "      <td>4.484846e-01</td>\n",
       "      <td>6.999282e-01</td>\n",
       "    </tr>\n",
       "    <tr>\n",
       "      <th>75%</th>\n",
       "      <td>8.724364e-01</td>\n",
       "      <td>7.550242e-01</td>\n",
       "      <td>3.862442e-01</td>\n",
       "      <td>6.162539e-01</td>\n",
       "      <td>-3.997686e-01</td>\n",
       "      <td>9.188279e-01</td>\n",
       "      <td>-7.382163e-02</td>\n",
       "      <td>4.484846e-01</td>\n",
       "      <td>6.999282e-01</td>\n",
       "    </tr>\n",
       "    <tr>\n",
       "      <th>max</th>\n",
       "      <td>8.724364e-01</td>\n",
       "      <td>7.550242e-01</td>\n",
       "      <td>3.224507e+00</td>\n",
       "      <td>8.422137e+00</td>\n",
       "      <td>8.770534e+00</td>\n",
       "      <td>1.683704e+00</td>\n",
       "      <td>8.526608e+00</td>\n",
       "      <td>4.484846e-01</td>\n",
       "      <td>6.999282e-01</td>\n",
       "    </tr>\n",
       "  </tbody>\n",
       "</table>\n",
       "</div>"
      ],
      "text/plain": [
       "             Pclass           Sex           Age         SibSp         Parch  \\\n",
       "count  4.180000e+02  4.180000e+02  4.180000e+02  4.180000e+02  4.180000e+02   \n",
       "mean  -3.081002e-17 -3.824692e-17  3.505967e-17 -1.381139e-17 -5.524555e-17   \n",
       "std    1.000000e+00  1.000000e+00  8.909349e-01  1.000000e+00  1.000000e+00   \n",
       "min   -1.503319e+00 -1.321292e+00 -2.122710e+00 -4.988722e-01 -3.997686e-01   \n",
       "25%   -1.503319e+00 -1.321292e+00 -5.128329e-01 -4.988722e-01 -3.997686e-01   \n",
       "50%    8.724364e-01  7.550242e-01  0.000000e+00 -4.988722e-01 -3.997686e-01   \n",
       "75%    8.724364e-01  7.550242e-01  3.862442e-01  6.162539e-01 -3.997686e-01   \n",
       "max    8.724364e-01  7.550242e-01  3.224507e+00  8.422137e+00  8.770534e+00   \n",
       "\n",
       "             Ticket          Fare         Cabin      Embarked  \n",
       "count  4.180000e+02  4.180000e+02  4.180000e+02  4.180000e+02  \n",
       "mean  -1.184592e-16 -1.912346e-17  1.019918e-16 -9.774212e-17  \n",
       "std    1.000000e+00  9.988002e-01  1.000000e+00  1.000000e+00  \n",
       "min   -1.682681e+00 -6.372515e-01 -3.532364e+00 -1.640632e+00  \n",
       "25%   -8.899063e-01 -4.960220e-01  4.484846e-01 -4.703517e-01  \n",
       "50%    5.116897e-04 -3.787141e-01  4.484846e-01  6.999282e-01  \n",
       "75%    9.188279e-01 -7.382163e-02  4.484846e-01  6.999282e-01  \n",
       "max    1.683704e+00  8.526608e+00  4.484846e-01  6.999282e-01  "
      ]
     },
     "execution_count": 15,
     "metadata": {},
     "output_type": "execute_result"
    }
   ],
   "source": [
    "normalize(test_df, True)\n",
    "test_df.describe()"
   ]
  },
  {
   "cell_type": "code",
   "execution_count": 16,
   "id": "ebd20b3c",
   "metadata": {
    "execution": {
     "iopub.execute_input": "2023-03-03T15:27:00.715926Z",
     "iopub.status.busy": "2023-03-03T15:27:00.715084Z",
     "iopub.status.idle": "2023-03-03T15:27:00.722674Z",
     "shell.execute_reply": "2023-03-03T15:27:00.721883Z"
    },
    "papermill": {
     "duration": 0.017917,
     "end_time": "2023-03-03T15:27:00.725286",
     "exception": false,
     "start_time": "2023-03-03T15:27:00.707369",
     "status": "completed"
    },
    "tags": []
   },
   "outputs": [
    {
     "data": {
      "text/plain": [
       "torch.Size([418, 9])"
      ]
     },
     "execution_count": 16,
     "metadata": {},
     "output_type": "execute_result"
    }
   ],
   "source": [
    "x_tensor = torch.tensor(test_df.iloc[:, :].values, dtype=float)\n",
    "x_tensor.shape"
   ]
  },
  {
   "cell_type": "code",
   "execution_count": 17,
   "id": "cad389b0",
   "metadata": {
    "execution": {
     "iopub.execute_input": "2023-03-03T15:27:00.740313Z",
     "iopub.status.busy": "2023-03-03T15:27:00.739893Z",
     "iopub.status.idle": "2023-03-03T15:27:00.758644Z",
     "shell.execute_reply": "2023-03-03T15:27:00.757431Z"
    },
    "papermill": {
     "duration": 0.029807,
     "end_time": "2023-03-03T15:27:00.761748",
     "exception": false,
     "start_time": "2023-03-03T15:27:00.731941",
     "status": "completed"
    },
    "tags": []
   },
   "outputs": [],
   "source": [
    "with torch.no_grad():\n",
    "    outputs = model(x_tensor)\n",
    "    predicted_classes = torch.argmax(outputs, dim=1)\n",
    "    result = pd.DataFrame({'PassengerId': test_df.index, 'Survived': predicted_classes})\n",
    "    result.to_csv('sub.csv', index=False)"
   ]
  },
  {
   "cell_type": "code",
   "execution_count": null,
   "id": "ce792f05",
   "metadata": {
    "papermill": {
     "duration": 0.006136,
     "end_time": "2023-03-03T15:27:00.774428",
     "exception": false,
     "start_time": "2023-03-03T15:27:00.768292",
     "status": "completed"
    },
    "tags": []
   },
   "outputs": [],
   "source": []
  },
  {
   "cell_type": "code",
   "execution_count": null,
   "id": "ea3fe083",
   "metadata": {
    "papermill": {
     "duration": 0.006123,
     "end_time": "2023-03-03T15:27:00.787075",
     "exception": false,
     "start_time": "2023-03-03T15:27:00.780952",
     "status": "completed"
    },
    "tags": []
   },
   "outputs": [],
   "source": []
  }
 ],
 "metadata": {
  "kernelspec": {
   "display_name": "Python 3",
   "language": "python",
   "name": "python3"
  },
  "language_info": {
   "codemirror_mode": {
    "name": "ipython",
    "version": 3
   },
   "file_extension": ".py",
   "mimetype": "text/x-python",
   "name": "python",
   "nbconvert_exporter": "python",
   "pygments_lexer": "ipython3",
   "version": "3.7.12"
  },
  "papermill": {
   "default_parameters": {},
   "duration": 49.343228,
   "end_time": "2023-03-03T15:27:01.817240",
   "environment_variables": {},
   "exception": null,
   "input_path": "__notebook__.ipynb",
   "output_path": "__notebook__.ipynb",
   "parameters": {},
   "start_time": "2023-03-03T15:26:12.474012",
   "version": "2.4.0"
  }
 },
 "nbformat": 4,
 "nbformat_minor": 5
}
