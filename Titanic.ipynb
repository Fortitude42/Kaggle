{
 "cells": [
  {
   "cell_type": "code",
   "execution_count": 1,
   "id": "0376c184",
   "metadata": {
    "_cell_guid": "b1076dfc-b9ad-4769-8c92-a6c4dae69d19",
    "_uuid": "8f2839f25d086af736a60e9eeb907d3b93b6e0e5",
    "execution": {
     "iopub.execute_input": "2023-03-06T09:51:05.505792Z",
     "iopub.status.busy": "2023-03-06T09:51:05.505350Z",
     "iopub.status.idle": "2023-03-06T09:51:05.516562Z",
     "shell.execute_reply": "2023-03-06T09:51:05.515211Z"
    },
    "papermill": {
     "duration": 0.022279,
     "end_time": "2023-03-06T09:51:05.519900",
     "exception": false,
     "start_time": "2023-03-06T09:51:05.497621",
     "status": "completed"
    },
    "tags": []
   },
   "outputs": [],
   "source": [
    "import numpy as np\n",
    "import pandas as pd\n",
    "from pandas import DataFrame as df"
   ]
  },
  {
   "cell_type": "code",
   "execution_count": 2,
   "id": "23db6eaa",
   "metadata": {
    "execution": {
     "iopub.execute_input": "2023-03-06T09:51:05.536846Z",
     "iopub.status.busy": "2023-03-06T09:51:05.536038Z",
     "iopub.status.idle": "2023-03-06T09:51:05.602442Z",
     "shell.execute_reply": "2023-03-06T09:51:05.601459Z"
    },
    "papermill": {
     "duration": 0.080423,
     "end_time": "2023-03-06T09:51:05.607225",
     "exception": false,
     "start_time": "2023-03-06T09:51:05.526802",
     "status": "completed"
    },
    "tags": []
   },
   "outputs": [
    {
     "data": {
      "text/html": [
       "<div>\n",
       "<style scoped>\n",
       "    .dataframe tbody tr th:only-of-type {\n",
       "        vertical-align: middle;\n",
       "    }\n",
       "\n",
       "    .dataframe tbody tr th {\n",
       "        vertical-align: top;\n",
       "    }\n",
       "\n",
       "    .dataframe thead th {\n",
       "        text-align: right;\n",
       "    }\n",
       "</style>\n",
       "<table border=\"1\" class=\"dataframe\">\n",
       "  <thead>\n",
       "    <tr style=\"text-align: right;\">\n",
       "      <th></th>\n",
       "      <th>Survived</th>\n",
       "      <th>Pclass</th>\n",
       "      <th>Name</th>\n",
       "      <th>Sex</th>\n",
       "      <th>Age</th>\n",
       "      <th>SibSp</th>\n",
       "      <th>Parch</th>\n",
       "      <th>Ticket</th>\n",
       "      <th>Fare</th>\n",
       "      <th>Cabin</th>\n",
       "      <th>Embarked</th>\n",
       "    </tr>\n",
       "    <tr>\n",
       "      <th>PassengerId</th>\n",
       "      <th></th>\n",
       "      <th></th>\n",
       "      <th></th>\n",
       "      <th></th>\n",
       "      <th></th>\n",
       "      <th></th>\n",
       "      <th></th>\n",
       "      <th></th>\n",
       "      <th></th>\n",
       "      <th></th>\n",
       "      <th></th>\n",
       "    </tr>\n",
       "  </thead>\n",
       "  <tbody>\n",
       "    <tr>\n",
       "      <th>1</th>\n",
       "      <td>0</td>\n",
       "      <td>3</td>\n",
       "      <td>Braund, Mr. Owen Harris</td>\n",
       "      <td>male</td>\n",
       "      <td>22.0</td>\n",
       "      <td>1</td>\n",
       "      <td>0</td>\n",
       "      <td>A/5 21171</td>\n",
       "      <td>7.2500</td>\n",
       "      <td>NaN</td>\n",
       "      <td>S</td>\n",
       "    </tr>\n",
       "    <tr>\n",
       "      <th>2</th>\n",
       "      <td>1</td>\n",
       "      <td>1</td>\n",
       "      <td>Cumings, Mrs. John Bradley (Florence Briggs Th...</td>\n",
       "      <td>female</td>\n",
       "      <td>38.0</td>\n",
       "      <td>1</td>\n",
       "      <td>0</td>\n",
       "      <td>PC 17599</td>\n",
       "      <td>71.2833</td>\n",
       "      <td>C85</td>\n",
       "      <td>C</td>\n",
       "    </tr>\n",
       "    <tr>\n",
       "      <th>3</th>\n",
       "      <td>1</td>\n",
       "      <td>3</td>\n",
       "      <td>Heikkinen, Miss. Laina</td>\n",
       "      <td>female</td>\n",
       "      <td>26.0</td>\n",
       "      <td>0</td>\n",
       "      <td>0</td>\n",
       "      <td>STON/O2. 3101282</td>\n",
       "      <td>7.9250</td>\n",
       "      <td>NaN</td>\n",
       "      <td>S</td>\n",
       "    </tr>\n",
       "    <tr>\n",
       "      <th>4</th>\n",
       "      <td>1</td>\n",
       "      <td>1</td>\n",
       "      <td>Futrelle, Mrs. Jacques Heath (Lily May Peel)</td>\n",
       "      <td>female</td>\n",
       "      <td>35.0</td>\n",
       "      <td>1</td>\n",
       "      <td>0</td>\n",
       "      <td>113803</td>\n",
       "      <td>53.1000</td>\n",
       "      <td>C123</td>\n",
       "      <td>S</td>\n",
       "    </tr>\n",
       "    <tr>\n",
       "      <th>5</th>\n",
       "      <td>0</td>\n",
       "      <td>3</td>\n",
       "      <td>Allen, Mr. William Henry</td>\n",
       "      <td>male</td>\n",
       "      <td>35.0</td>\n",
       "      <td>0</td>\n",
       "      <td>0</td>\n",
       "      <td>373450</td>\n",
       "      <td>8.0500</td>\n",
       "      <td>NaN</td>\n",
       "      <td>S</td>\n",
       "    </tr>\n",
       "  </tbody>\n",
       "</table>\n",
       "</div>"
      ],
      "text/plain": [
       "             Survived  Pclass  \\\n",
       "PassengerId                     \n",
       "1                   0       3   \n",
       "2                   1       1   \n",
       "3                   1       3   \n",
       "4                   1       1   \n",
       "5                   0       3   \n",
       "\n",
       "                                                          Name     Sex   Age  \\\n",
       "PassengerId                                                                    \n",
       "1                                      Braund, Mr. Owen Harris    male  22.0   \n",
       "2            Cumings, Mrs. John Bradley (Florence Briggs Th...  female  38.0   \n",
       "3                                       Heikkinen, Miss. Laina  female  26.0   \n",
       "4                 Futrelle, Mrs. Jacques Heath (Lily May Peel)  female  35.0   \n",
       "5                                     Allen, Mr. William Henry    male  35.0   \n",
       "\n",
       "             SibSp  Parch            Ticket     Fare Cabin Embarked  \n",
       "PassengerId                                                          \n",
       "1                1      0         A/5 21171   7.2500   NaN        S  \n",
       "2                1      0          PC 17599  71.2833   C85        C  \n",
       "3                0      0  STON/O2. 3101282   7.9250   NaN        S  \n",
       "4                1      0            113803  53.1000  C123        S  \n",
       "5                0      0            373450   8.0500   NaN        S  "
      ]
     },
     "execution_count": 2,
     "metadata": {},
     "output_type": "execute_result"
    }
   ],
   "source": [
    "train_df = pd.read_csv('/kaggle/input/titanic/train.csv', index_col=0)\n",
    "train_df.head(5)"
   ]
  },
  {
   "cell_type": "code",
   "execution_count": 3,
   "id": "03986e6c",
   "metadata": {
    "execution": {
     "iopub.execute_input": "2023-03-06T09:51:05.621539Z",
     "iopub.status.busy": "2023-03-06T09:51:05.620975Z",
     "iopub.status.idle": "2023-03-06T09:51:06.596810Z",
     "shell.execute_reply": "2023-03-06T09:51:06.595664Z"
    },
    "papermill": {
     "duration": 0.99808,
     "end_time": "2023-03-06T09:51:06.610696",
     "exception": false,
     "start_time": "2023-03-06T09:51:05.612616",
     "status": "completed"
    },
    "tags": []
   },
   "outputs": [],
   "source": [
    "from sklearn.preprocessing import LabelEncoder\n",
    "le = LabelEncoder()\n",
    "\n",
    "mean, std = dict(), dict()\n",
    "\n",
    "def age_type(age):\n",
    "    if age <= 1:\n",
    "        return \"newborn\"\n",
    "    if age <= 8:\n",
    "        return \"child\"\n",
    "    if age <= 13:\n",
    "        return \"teenager\"\n",
    "    if age <= 18:\n",
    "        return \"old teenager\"\n",
    "    if age <= 23:\n",
    "        return \"very young\"\n",
    "    if age <= 75:\n",
    "        return \"old\"\n",
    "    return \"very old\"\n",
    "\n",
    "\n",
    "def family_type(family_size):\n",
    "    if family_size <= 1:\n",
    "        return \"solo\"\n",
    "    if family_size <= 2:\n",
    "        return \"couple\"\n",
    "    if family_size <= 4:\n",
    "        return \"average family\"\n",
    "    return \"big family\"\n",
    "\n",
    "def get_title(name):\n",
    "    title = \"#\"\n",
    "    start = 0\n",
    "    while title[-1] != '.':\n",
    "        while name[start] == ' ':\n",
    "            start += 1\n",
    "            \n",
    "        end = start\n",
    "        while name[end] != ' ':\n",
    "            end += 1\n",
    "        \n",
    "        title = name[start:end]\n",
    "        start = end\n",
    "    return title\n",
    "    \n",
    "\n",
    "def normalize(df, train):\n",
    "#     df[\"AgeType\"] = df[\"Age\"].apply(age_type)\n",
    "#     df[\"FamilySize\"] = (df[\"SibSp\"] + df[\"Parch\"] + 1)\n",
    "#     df[\"FamilyType\"] = df[\"FamilySize\"].apply(family_type)\n",
    "#     df['Title'] = df['Name'].apply(get_title)\n",
    "    for col in df:\n",
    "        if col == 'Survived':\n",
    "            continue\n",
    "        if df[col].dtype == object:\n",
    "            le.fit(df[col])\n",
    "            df[col] = le.transform(df[col])\n",
    "            \n",
    "        df[col] = df[col].astype(float)\n",
    "        if train:\n",
    "            mean[col] = df[col].mean()\n",
    "            std[col] = df[col].std()\n",
    "        \n",
    "        df[col].fillna(mean[col], inplace=True)        \n",
    "        df[col] = (df[col] - mean[col]) / std[col]    \n",
    "    \n",
    "    df.drop('Name', axis=1, inplace=True)    \n",
    "    df.drop('Age', axis=1, inplace=True)    \n",
    "    df.drop('SibSp', axis=1, inplace=True)    \n",
    "    df.drop('Parch', axis=1, inplace=True)    \n",
    "#     df.drop('FamilySize', axis=1, inplace=True)    "
   ]
  },
  {
   "cell_type": "code",
   "execution_count": 4,
   "id": "aa476e78",
   "metadata": {
    "execution": {
     "iopub.execute_input": "2023-03-06T09:51:06.628170Z",
     "iopub.status.busy": "2023-03-06T09:51:06.627751Z",
     "iopub.status.idle": "2023-03-06T09:51:06.668463Z",
     "shell.execute_reply": "2023-03-06T09:51:06.666554Z"
    },
    "papermill": {
     "duration": 0.053545,
     "end_time": "2023-03-06T09:51:06.671784",
     "exception": false,
     "start_time": "2023-03-06T09:51:06.618239",
     "status": "completed"
    },
    "tags": []
   },
   "outputs": [
    {
     "name": "stdout",
     "output_type": "stream",
     "text": [
      "Embarked    0.163517\n",
      "Ticket      0.164549\n",
      "Cabin       0.254888\n",
      "Fare        0.257307\n",
      "Pclass      0.338481\n",
      "Sex         0.543351\n",
      "Survived    1.000000\n",
      "Name: Survived, dtype: float64\n"
     ]
    }
   ],
   "source": [
    "normalize(train_df, True)\n",
    "print(abs(train_df.corr()['Survived']).sort_values())"
   ]
  },
  {
   "cell_type": "code",
   "execution_count": 5,
   "id": "80c1842b",
   "metadata": {
    "execution": {
     "iopub.execute_input": "2023-03-06T09:51:06.690491Z",
     "iopub.status.busy": "2023-03-06T09:51:06.689206Z",
     "iopub.status.idle": "2023-03-06T09:51:09.158620Z",
     "shell.execute_reply": "2023-03-06T09:51:09.157471Z"
    },
    "papermill": {
     "duration": 2.481718,
     "end_time": "2023-03-06T09:51:09.161526",
     "exception": false,
     "start_time": "2023-03-06T09:51:06.679808",
     "status": "completed"
    },
    "tags": []
   },
   "outputs": [],
   "source": [
    "from torch.utils.data import Dataset, DataLoader\n",
    "from torch import tensor\n",
    "import torch\n",
    "\n",
    "\n",
    "def get_probabilities(df):\n",
    "    survived, nsurvived = tensor(df['Survived'].values), tensor((1 - df['Survived']).values)\n",
    "    survived, nsurvived = survived.view(survived.shape[0], 1), nsurvived.view(nsurvived.shape[0], 1)\n",
    "    return torch.cat((nsurvived, survived), axis=1).float()\n",
    "\n",
    "class CustomDataset(Dataset):\n",
    "    def __init__(self, df):        \n",
    "        self.X = tensor(df.drop('Survived', axis=1).values)\n",
    "        self.Y = get_probabilities(df)\n",
    "        \n",
    "    def __len__(self):\n",
    "        return self.X.shape[0]\n",
    "    \n",
    "    def __getitem__(self, index):\n",
    "        return self.X[index], self.Y[index]\n",
    "    "
   ]
  },
  {
   "cell_type": "code",
   "execution_count": 6,
   "id": "6058227d",
   "metadata": {
    "execution": {
     "iopub.execute_input": "2023-03-06T09:51:09.174414Z",
     "iopub.status.busy": "2023-03-06T09:51:09.173780Z",
     "iopub.status.idle": "2023-03-06T09:51:09.187828Z",
     "shell.execute_reply": "2023-03-06T09:51:09.186343Z"
    },
    "papermill": {
     "duration": 0.023701,
     "end_time": "2023-03-06T09:51:09.190444",
     "exception": false,
     "start_time": "2023-03-06T09:51:09.166743",
     "status": "completed"
    },
    "tags": []
   },
   "outputs": [],
   "source": [
    "from torch import nn\n",
    "class Net(nn.Module):\n",
    "    def __init__(self, input_size, hidden_size1, dropout1, hidden_size2, dropout2, hidden_size3, dropout3, output_size):\n",
    "        super(Net, self).__init__()\n",
    "        self.fc1 = nn.Sequential(\n",
    "            nn.Flatten(),\n",
    "            nn.LazyLinear(hidden_size1, dtype=float),\n",
    "            nn.ReLU(),        \n",
    "        )\n",
    "        \n",
    "        self.dropout1 = nn.Dropout(dropout1)\n",
    "        \n",
    "        self.fc2 = nn.Sequential(\n",
    "            nn.LazyLinear(hidden_size2, dtype=float),\n",
    "            nn.ReLU(),\n",
    "        )\n",
    "        \n",
    "        self.dropout2 = nn.Dropout(dropout2)\n",
    "        \n",
    "        self.fc3 = nn.Sequential(\n",
    "            nn.LazyLinear(hidden_size3, dtype=float),\n",
    "            nn.ReLU(),\n",
    "        )\n",
    "        \n",
    "        self.dropout3 = nn.Dropout(dropout3)\n",
    "        \n",
    "        self.fc4 = nn.LazyLinear(output_size, dtype=float)\n",
    "        \n",
    "                \n",
    "        \n",
    "    def forward(self, x):                \n",
    "        y = self.fc1(x)\n",
    "        if self.train:\n",
    "            y = self.dropout1(y)\n",
    "            \n",
    "        y = self.fc2(y)        \n",
    "        if self.train:\n",
    "            y = self.dropout2(y)\n",
    "            \n",
    "        y = self.fc3(y)\n",
    "        \n",
    "        if self.train:\n",
    "            y = self.dropout3(y)\n",
    "            \n",
    "        y = self.fc4(y)\n",
    "        return y\n"
   ]
  },
  {
   "cell_type": "code",
   "execution_count": 7,
   "id": "911e069f",
   "metadata": {
    "execution": {
     "iopub.execute_input": "2023-03-06T09:51:09.203252Z",
     "iopub.status.busy": "2023-03-06T09:51:09.202135Z",
     "iopub.status.idle": "2023-03-06T09:51:09.208345Z",
     "shell.execute_reply": "2023-03-06T09:51:09.207244Z"
    },
    "papermill": {
     "duration": 0.015594,
     "end_time": "2023-03-06T09:51:09.211252",
     "exception": false,
     "start_time": "2023-03-06T09:51:09.195658",
     "status": "completed"
    },
    "tags": []
   },
   "outputs": [],
   "source": [
    "hparams = {\n",
    "    'input_size': train_df.shape[1] - 2,\n",
    "    'hidden_size1': 100,\n",
    "    'dropout1': 0,\n",
    "    'hidden_size2': 500,\n",
    "    'dropout2': 0.5,\n",
    "    'hidden_size3': 250,\n",
    "    'dropout3': 0.25,\n",
    "    'output_size': 2,    \n",
    "}"
   ]
  },
  {
   "cell_type": "code",
   "execution_count": 8,
   "id": "e54a802e",
   "metadata": {
    "execution": {
     "iopub.execute_input": "2023-03-06T09:51:09.223965Z",
     "iopub.status.busy": "2023-03-06T09:51:09.223531Z",
     "iopub.status.idle": "2023-03-06T09:51:09.228830Z",
     "shell.execute_reply": "2023-03-06T09:51:09.227483Z"
    },
    "papermill": {
     "duration": 0.01514,
     "end_time": "2023-03-06T09:51:09.231574",
     "exception": false,
     "start_time": "2023-03-06T09:51:09.216434",
     "status": "completed"
    },
    "tags": []
   },
   "outputs": [],
   "source": [
    "criterion = torch.nn.CrossEntropyLoss()"
   ]
  },
  {
   "cell_type": "code",
   "execution_count": 9,
   "id": "b9148860",
   "metadata": {
    "execution": {
     "iopub.execute_input": "2023-03-06T09:51:09.244146Z",
     "iopub.status.busy": "2023-03-06T09:51:09.243724Z",
     "iopub.status.idle": "2023-03-06T09:51:09.253804Z",
     "shell.execute_reply": "2023-03-06T09:51:09.252333Z"
    },
    "papermill": {
     "duration": 0.019574,
     "end_time": "2023-03-06T09:51:09.256438",
     "exception": false,
     "start_time": "2023-03-06T09:51:09.236864",
     "status": "completed"
    },
    "tags": []
   },
   "outputs": [],
   "source": [
    "def train(df, ec, lr, wd):\n",
    "    model = Net(**hparams)\n",
    "    model.train()\n",
    "    \n",
    "    optimizer = torch.optim.SGD(model.parameters(), lr=lr, weight_decay=wd)\n",
    "    dataset = CustomDataset(df)\n",
    "    dataloader = DataLoader(dataset, batch_size=32, shuffle=True)\n",
    "    \n",
    "    for epoch in range(ec):\n",
    "        correct = 0\n",
    "        total = 0\n",
    "\n",
    "        for batch in dataloader:\n",
    "            x_tensor, y_tensor = batch                                           \n",
    "            y_pred = model(x_tensor)\n",
    "            loss = criterion(y_pred, y_tensor)        \n",
    "\n",
    "            predictions = torch.argmax(y_pred, dim=1)\n",
    "            targets = torch.argmax(y_tensor, dim=1)\n",
    "            total += predictions.shape[0]\n",
    "            correct += (predictions==targets).sum().item()\n",
    "\n",
    "            assert not torch.isnan(loss)\n",
    "            optimizer.zero_grad()\n",
    "            loss.backward()\n",
    "            optimizer.step()\n",
    "            \n",
    "        if epoch == ec - 1:\n",
    "            print(f'{epoch:} {round(100*correct / total, 2)}')\n",
    "\n",
    "    return model\n",
    "    "
   ]
  },
  {
   "cell_type": "code",
   "execution_count": 10,
   "id": "d54bd976",
   "metadata": {
    "execution": {
     "iopub.execute_input": "2023-03-06T09:51:09.268738Z",
     "iopub.status.busy": "2023-03-06T09:51:09.268330Z",
     "iopub.status.idle": "2023-03-06T09:51:09.277302Z",
     "shell.execute_reply": "2023-03-06T09:51:09.276140Z"
    },
    "papermill": {
     "duration": 0.01816,
     "end_time": "2023-03-06T09:51:09.279723",
     "exception": false,
     "start_time": "2023-03-06T09:51:09.261563",
     "status": "completed"
    },
    "tags": []
   },
   "outputs": [],
   "source": [
    "def k_fold(df, ec, lr, wd, k = 5):\n",
    "    fold_indices = np.array_split(np.arange(len(df)), k)    \n",
    "    total = 0\n",
    "    correct = 0\n",
    "    \n",
    "    for fold in range(k):\n",
    "        test_indices = fold_indices[fold]\n",
    "        train_indices = np.concatenate(fold_indices[:fold] + fold_indices[fold+1:])\n",
    "        \n",
    "        model = train(df.iloc[train_indices], ec, lr, wd)        \n",
    "        model.eval()\n",
    "        \n",
    "        x_tensor, y_tensor = tensor(df.values[test_indices, :-1]), get_probabilities(df.iloc[test_indices])\n",
    "        y_pred = model(x_tensor)    \n",
    "        correct += (torch.argmax(y_pred, dim=1) == torch.argmax(y_tensor, dim=1)).sum().item()\n",
    "        total += y_pred.shape[0]\n",
    "    \n",
    "    return round(100*correct / total, 2)"
   ]
  },
  {
   "cell_type": "code",
   "execution_count": 11,
   "id": "554a9075",
   "metadata": {
    "execution": {
     "iopub.execute_input": "2023-03-06T09:51:09.291978Z",
     "iopub.status.busy": "2023-03-06T09:51:09.291577Z",
     "iopub.status.idle": "2023-03-06T09:53:41.419540Z",
     "shell.execute_reply": "2023-03-06T09:53:41.418140Z"
    },
    "papermill": {
     "duration": 152.142458,
     "end_time": "2023-03-06T09:53:41.427353",
     "exception": false,
     "start_time": "2023-03-06T09:51:09.284895",
     "status": "completed"
    },
    "tags": []
   },
   "outputs": [
    {
     "name": "stderr",
     "output_type": "stream",
     "text": [
      "/opt/conda/lib/python3.7/site-packages/torch/nn/modules/lazy.py:180: UserWarning: Lazy modules are a new feature under heavy development so changes to the API or functionality can happen at any moment.\n",
      "  warnings.warn('Lazy modules are a new feature under heavy development '\n"
     ]
    },
    {
     "name": "stdout",
     "output_type": "stream",
     "text": [
      "499 83.29\n",
      "499 84.57\n",
      "499 83.31\n",
      "499 84.01\n",
      "499 84.57\n",
      "--> 63.52\n"
     ]
    }
   ],
   "source": [
    "candidates = [0, 1e-5, 1e-4, 1e-3, 1e-2, 1e-1]\n",
    "print(f'--> {k_fold(train_df, ec=500, lr=0.015, wd=1e-5)}')"
   ]
  },
  {
   "cell_type": "code",
   "execution_count": 12,
   "id": "dce51af7",
   "metadata": {
    "execution": {
     "iopub.execute_input": "2023-03-06T09:53:41.440918Z",
     "iopub.status.busy": "2023-03-06T09:53:41.439815Z",
     "iopub.status.idle": "2023-03-06T09:54:00.480625Z",
     "shell.execute_reply": "2023-03-06T09:54:00.479505Z"
    },
    "papermill": {
     "duration": 19.050387,
     "end_time": "2023-03-06T09:54:00.483244",
     "exception": false,
     "start_time": "2023-03-06T09:53:41.432857",
     "status": "completed"
    },
    "tags": []
   },
   "outputs": [
    {
     "name": "stdout",
     "output_type": "stream",
     "text": [
      "249 82.27\n"
     ]
    },
    {
     "data": {
      "text/plain": [
       "Net(\n",
       "  (fc1): Sequential(\n",
       "    (0): Flatten(start_dim=1, end_dim=-1)\n",
       "    (1): Linear(in_features=6, out_features=100, bias=True)\n",
       "    (2): ReLU()\n",
       "  )\n",
       "  (dropout1): Dropout(p=0, inplace=False)\n",
       "  (fc2): Sequential(\n",
       "    (0): Linear(in_features=100, out_features=500, bias=True)\n",
       "    (1): ReLU()\n",
       "  )\n",
       "  (dropout2): Dropout(p=0.5, inplace=False)\n",
       "  (fc3): Sequential(\n",
       "    (0): Linear(in_features=500, out_features=250, bias=True)\n",
       "    (1): ReLU()\n",
       "  )\n",
       "  (dropout3): Dropout(p=0.25, inplace=False)\n",
       "  (fc4): Linear(in_features=250, out_features=2, bias=True)\n",
       ")"
      ]
     },
     "execution_count": 12,
     "metadata": {},
     "output_type": "execute_result"
    }
   ],
   "source": [
    "model = train(train_df, ec=250, lr=1.5e-2, wd=1e-5)\n",
    "model.eval()"
   ]
  },
  {
   "cell_type": "code",
   "execution_count": 13,
   "id": "4f3ff73c",
   "metadata": {
    "execution": {
     "iopub.execute_input": "2023-03-06T09:54:00.499357Z",
     "iopub.status.busy": "2023-03-06T09:54:00.498527Z",
     "iopub.status.idle": "2023-03-06T09:54:00.516422Z",
     "shell.execute_reply": "2023-03-06T09:54:00.515028Z"
    },
    "papermill": {
     "duration": 0.029359,
     "end_time": "2023-03-06T09:54:00.519338",
     "exception": false,
     "start_time": "2023-03-06T09:54:00.489979",
     "status": "completed"
    },
    "tags": []
   },
   "outputs": [],
   "source": [
    "test_df = pd.read_csv('/kaggle/input/titanic/test.csv', index_col=0)"
   ]
  },
  {
   "cell_type": "code",
   "execution_count": 14,
   "id": "a655dc44",
   "metadata": {
    "execution": {
     "iopub.execute_input": "2023-03-06T09:54:00.535925Z",
     "iopub.status.busy": "2023-03-06T09:54:00.533880Z",
     "iopub.status.idle": "2023-03-06T09:54:00.597307Z",
     "shell.execute_reply": "2023-03-06T09:54:00.595930Z"
    },
    "papermill": {
     "duration": 0.074535,
     "end_time": "2023-03-06T09:54:00.600132",
     "exception": false,
     "start_time": "2023-03-06T09:54:00.525597",
     "status": "completed"
    },
    "tags": []
   },
   "outputs": [
    {
     "data": {
      "text/html": [
       "<div>\n",
       "<style scoped>\n",
       "    .dataframe tbody tr th:only-of-type {\n",
       "        vertical-align: middle;\n",
       "    }\n",
       "\n",
       "    .dataframe tbody tr th {\n",
       "        vertical-align: top;\n",
       "    }\n",
       "\n",
       "    .dataframe thead th {\n",
       "        text-align: right;\n",
       "    }\n",
       "</style>\n",
       "<table border=\"1\" class=\"dataframe\">\n",
       "  <thead>\n",
       "    <tr style=\"text-align: right;\">\n",
       "      <th></th>\n",
       "      <th>Pclass</th>\n",
       "      <th>Sex</th>\n",
       "      <th>Ticket</th>\n",
       "      <th>Fare</th>\n",
       "      <th>Cabin</th>\n",
       "      <th>Embarked</th>\n",
       "    </tr>\n",
       "  </thead>\n",
       "  <tbody>\n",
       "    <tr>\n",
       "      <th>count</th>\n",
       "      <td>4.180000e+02</td>\n",
       "      <td>4.180000e+02</td>\n",
       "      <td>4.180000e+02</td>\n",
       "      <td>4.180000e+02</td>\n",
       "      <td>4.180000e+02</td>\n",
       "      <td>4.180000e+02</td>\n",
       "    </tr>\n",
       "    <tr>\n",
       "      <th>mean</th>\n",
       "      <td>-3.081002e-17</td>\n",
       "      <td>-3.824692e-17</td>\n",
       "      <td>-1.184592e-16</td>\n",
       "      <td>-1.912346e-17</td>\n",
       "      <td>1.019918e-16</td>\n",
       "      <td>-9.774212e-17</td>\n",
       "    </tr>\n",
       "    <tr>\n",
       "      <th>std</th>\n",
       "      <td>1.000000e+00</td>\n",
       "      <td>1.000000e+00</td>\n",
       "      <td>1.000000e+00</td>\n",
       "      <td>9.988002e-01</td>\n",
       "      <td>1.000000e+00</td>\n",
       "      <td>1.000000e+00</td>\n",
       "    </tr>\n",
       "    <tr>\n",
       "      <th>min</th>\n",
       "      <td>-1.503319e+00</td>\n",
       "      <td>-1.321292e+00</td>\n",
       "      <td>-1.682681e+00</td>\n",
       "      <td>-6.372515e-01</td>\n",
       "      <td>-3.532364e+00</td>\n",
       "      <td>-1.640632e+00</td>\n",
       "    </tr>\n",
       "    <tr>\n",
       "      <th>25%</th>\n",
       "      <td>-1.503319e+00</td>\n",
       "      <td>-1.321292e+00</td>\n",
       "      <td>-8.899063e-01</td>\n",
       "      <td>-4.960220e-01</td>\n",
       "      <td>4.484846e-01</td>\n",
       "      <td>-4.703517e-01</td>\n",
       "    </tr>\n",
       "    <tr>\n",
       "      <th>50%</th>\n",
       "      <td>8.724364e-01</td>\n",
       "      <td>7.550242e-01</td>\n",
       "      <td>5.116897e-04</td>\n",
       "      <td>-3.787141e-01</td>\n",
       "      <td>4.484846e-01</td>\n",
       "      <td>6.999282e-01</td>\n",
       "    </tr>\n",
       "    <tr>\n",
       "      <th>75%</th>\n",
       "      <td>8.724364e-01</td>\n",
       "      <td>7.550242e-01</td>\n",
       "      <td>9.188279e-01</td>\n",
       "      <td>-7.382163e-02</td>\n",
       "      <td>4.484846e-01</td>\n",
       "      <td>6.999282e-01</td>\n",
       "    </tr>\n",
       "    <tr>\n",
       "      <th>max</th>\n",
       "      <td>8.724364e-01</td>\n",
       "      <td>7.550242e-01</td>\n",
       "      <td>1.683704e+00</td>\n",
       "      <td>8.526608e+00</td>\n",
       "      <td>4.484846e-01</td>\n",
       "      <td>6.999282e-01</td>\n",
       "    </tr>\n",
       "  </tbody>\n",
       "</table>\n",
       "</div>"
      ],
      "text/plain": [
       "             Pclass           Sex        Ticket          Fare         Cabin  \\\n",
       "count  4.180000e+02  4.180000e+02  4.180000e+02  4.180000e+02  4.180000e+02   \n",
       "mean  -3.081002e-17 -3.824692e-17 -1.184592e-16 -1.912346e-17  1.019918e-16   \n",
       "std    1.000000e+00  1.000000e+00  1.000000e+00  9.988002e-01  1.000000e+00   \n",
       "min   -1.503319e+00 -1.321292e+00 -1.682681e+00 -6.372515e-01 -3.532364e+00   \n",
       "25%   -1.503319e+00 -1.321292e+00 -8.899063e-01 -4.960220e-01  4.484846e-01   \n",
       "50%    8.724364e-01  7.550242e-01  5.116897e-04 -3.787141e-01  4.484846e-01   \n",
       "75%    8.724364e-01  7.550242e-01  9.188279e-01 -7.382163e-02  4.484846e-01   \n",
       "max    8.724364e-01  7.550242e-01  1.683704e+00  8.526608e+00  4.484846e-01   \n",
       "\n",
       "           Embarked  \n",
       "count  4.180000e+02  \n",
       "mean  -9.774212e-17  \n",
       "std    1.000000e+00  \n",
       "min   -1.640632e+00  \n",
       "25%   -4.703517e-01  \n",
       "50%    6.999282e-01  \n",
       "75%    6.999282e-01  \n",
       "max    6.999282e-01  "
      ]
     },
     "execution_count": 14,
     "metadata": {},
     "output_type": "execute_result"
    }
   ],
   "source": [
    "normalize(test_df, True)\n",
    "test_df.describe()"
   ]
  },
  {
   "cell_type": "code",
   "execution_count": 15,
   "id": "ebcd8a63",
   "metadata": {
    "execution": {
     "iopub.execute_input": "2023-03-06T09:54:00.614770Z",
     "iopub.status.busy": "2023-03-06T09:54:00.613989Z",
     "iopub.status.idle": "2023-03-06T09:54:00.622452Z",
     "shell.execute_reply": "2023-03-06T09:54:00.621049Z"
    },
    "papermill": {
     "duration": 0.018789,
     "end_time": "2023-03-06T09:54:00.625000",
     "exception": false,
     "start_time": "2023-03-06T09:54:00.606211",
     "status": "completed"
    },
    "tags": []
   },
   "outputs": [
    {
     "data": {
      "text/plain": [
       "torch.Size([418, 6])"
      ]
     },
     "execution_count": 15,
     "metadata": {},
     "output_type": "execute_result"
    }
   ],
   "source": [
    "x_tensor = torch.tensor(test_df.iloc[:, :].values, dtype=float)\n",
    "x_tensor.shape"
   ]
  },
  {
   "cell_type": "code",
   "execution_count": 16,
   "id": "0b09bf2f",
   "metadata": {
    "execution": {
     "iopub.execute_input": "2023-03-06T09:54:00.640239Z",
     "iopub.status.busy": "2023-03-06T09:54:00.639220Z",
     "iopub.status.idle": "2023-03-06T09:54:00.659771Z",
     "shell.execute_reply": "2023-03-06T09:54:00.658450Z"
    },
    "papermill": {
     "duration": 0.031746,
     "end_time": "2023-03-06T09:54:00.662943",
     "exception": false,
     "start_time": "2023-03-06T09:54:00.631197",
     "status": "completed"
    },
    "tags": []
   },
   "outputs": [],
   "source": [
    "with torch.no_grad():\n",
    "    outputs = model(x_tensor)\n",
    "    predicted_classes = torch.argmax(outputs, dim=1)\n",
    "    result = pd.DataFrame({'PassengerId': test_df.index, 'Survived': predicted_classes})\n",
    "    result.to_csv('sub.csv', index=False)"
   ]
  }
 ],
 "metadata": {
  "kernelspec": {
   "display_name": "Python 3",
   "language": "python",
   "name": "python3"
  },
  "language_info": {
   "codemirror_mode": {
    "name": "ipython",
    "version": 3
   },
   "file_extension": ".py",
   "mimetype": "text/x-python",
   "name": "python",
   "nbconvert_exporter": "python",
   "pygments_lexer": "ipython3",
   "version": "3.7.12"
  },
  "papermill": {
   "default_parameters": {},
   "duration": 186.826375,
   "end_time": "2023-03-06T09:54:01.795016",
   "environment_variables": {},
   "exception": null,
   "input_path": "__notebook__.ipynb",
   "output_path": "__notebook__.ipynb",
   "parameters": {},
   "start_time": "2023-03-06T09:50:54.968641",
   "version": "2.4.0"
  }
 },
 "nbformat": 4,
 "nbformat_minor": 5
}
