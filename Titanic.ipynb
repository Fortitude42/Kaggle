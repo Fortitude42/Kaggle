{
 "cells": [
  {
   "cell_type": "code",
   "execution_count": 1,
   "id": "02cef41c",
   "metadata": {
    "_cell_guid": "b1076dfc-b9ad-4769-8c92-a6c4dae69d19",
    "_uuid": "8f2839f25d086af736a60e9eeb907d3b93b6e0e5",
    "execution": {
     "iopub.execute_input": "2023-03-06T08:49:23.668153Z",
     "iopub.status.busy": "2023-03-06T08:49:23.667730Z",
     "iopub.status.idle": "2023-03-06T08:49:23.679411Z",
     "shell.execute_reply": "2023-03-06T08:49:23.678121Z"
    },
    "papermill": {
     "duration": 0.023246,
     "end_time": "2023-03-06T08:49:23.682224",
     "exception": false,
     "start_time": "2023-03-06T08:49:23.658978",
     "status": "completed"
    },
    "tags": []
   },
   "outputs": [],
   "source": [
    "import numpy as np\n",
    "import pandas as pd\n",
    "from pandas import DataFrame as df"
   ]
  },
  {
   "cell_type": "code",
   "execution_count": 2,
   "id": "6ff7e2e2",
   "metadata": {
    "execution": {
     "iopub.execute_input": "2023-03-06T08:49:23.696563Z",
     "iopub.status.busy": "2023-03-06T08:49:23.695329Z",
     "iopub.status.idle": "2023-03-06T08:49:23.758532Z",
     "shell.execute_reply": "2023-03-06T08:49:23.756993Z"
    },
    "papermill": {
     "duration": 0.073345,
     "end_time": "2023-03-06T08:49:23.761584",
     "exception": false,
     "start_time": "2023-03-06T08:49:23.688239",
     "status": "completed"
    },
    "tags": []
   },
   "outputs": [
    {
     "data": {
      "text/html": [
       "<div>\n",
       "<style scoped>\n",
       "    .dataframe tbody tr th:only-of-type {\n",
       "        vertical-align: middle;\n",
       "    }\n",
       "\n",
       "    .dataframe tbody tr th {\n",
       "        vertical-align: top;\n",
       "    }\n",
       "\n",
       "    .dataframe thead th {\n",
       "        text-align: right;\n",
       "    }\n",
       "</style>\n",
       "<table border=\"1\" class=\"dataframe\">\n",
       "  <thead>\n",
       "    <tr style=\"text-align: right;\">\n",
       "      <th></th>\n",
       "      <th>Survived</th>\n",
       "      <th>Pclass</th>\n",
       "      <th>Name</th>\n",
       "      <th>Sex</th>\n",
       "      <th>Age</th>\n",
       "      <th>SibSp</th>\n",
       "      <th>Parch</th>\n",
       "      <th>Ticket</th>\n",
       "      <th>Fare</th>\n",
       "      <th>Cabin</th>\n",
       "      <th>Embarked</th>\n",
       "    </tr>\n",
       "    <tr>\n",
       "      <th>PassengerId</th>\n",
       "      <th></th>\n",
       "      <th></th>\n",
       "      <th></th>\n",
       "      <th></th>\n",
       "      <th></th>\n",
       "      <th></th>\n",
       "      <th></th>\n",
       "      <th></th>\n",
       "      <th></th>\n",
       "      <th></th>\n",
       "      <th></th>\n",
       "    </tr>\n",
       "  </thead>\n",
       "  <tbody>\n",
       "    <tr>\n",
       "      <th>1</th>\n",
       "      <td>0</td>\n",
       "      <td>3</td>\n",
       "      <td>Braund, Mr. Owen Harris</td>\n",
       "      <td>male</td>\n",
       "      <td>22.0</td>\n",
       "      <td>1</td>\n",
       "      <td>0</td>\n",
       "      <td>A/5 21171</td>\n",
       "      <td>7.2500</td>\n",
       "      <td>NaN</td>\n",
       "      <td>S</td>\n",
       "    </tr>\n",
       "    <tr>\n",
       "      <th>2</th>\n",
       "      <td>1</td>\n",
       "      <td>1</td>\n",
       "      <td>Cumings, Mrs. John Bradley (Florence Briggs Th...</td>\n",
       "      <td>female</td>\n",
       "      <td>38.0</td>\n",
       "      <td>1</td>\n",
       "      <td>0</td>\n",
       "      <td>PC 17599</td>\n",
       "      <td>71.2833</td>\n",
       "      <td>C85</td>\n",
       "      <td>C</td>\n",
       "    </tr>\n",
       "    <tr>\n",
       "      <th>3</th>\n",
       "      <td>1</td>\n",
       "      <td>3</td>\n",
       "      <td>Heikkinen, Miss. Laina</td>\n",
       "      <td>female</td>\n",
       "      <td>26.0</td>\n",
       "      <td>0</td>\n",
       "      <td>0</td>\n",
       "      <td>STON/O2. 3101282</td>\n",
       "      <td>7.9250</td>\n",
       "      <td>NaN</td>\n",
       "      <td>S</td>\n",
       "    </tr>\n",
       "    <tr>\n",
       "      <th>4</th>\n",
       "      <td>1</td>\n",
       "      <td>1</td>\n",
       "      <td>Futrelle, Mrs. Jacques Heath (Lily May Peel)</td>\n",
       "      <td>female</td>\n",
       "      <td>35.0</td>\n",
       "      <td>1</td>\n",
       "      <td>0</td>\n",
       "      <td>113803</td>\n",
       "      <td>53.1000</td>\n",
       "      <td>C123</td>\n",
       "      <td>S</td>\n",
       "    </tr>\n",
       "    <tr>\n",
       "      <th>5</th>\n",
       "      <td>0</td>\n",
       "      <td>3</td>\n",
       "      <td>Allen, Mr. William Henry</td>\n",
       "      <td>male</td>\n",
       "      <td>35.0</td>\n",
       "      <td>0</td>\n",
       "      <td>0</td>\n",
       "      <td>373450</td>\n",
       "      <td>8.0500</td>\n",
       "      <td>NaN</td>\n",
       "      <td>S</td>\n",
       "    </tr>\n",
       "  </tbody>\n",
       "</table>\n",
       "</div>"
      ],
      "text/plain": [
       "             Survived  Pclass  \\\n",
       "PassengerId                     \n",
       "1                   0       3   \n",
       "2                   1       1   \n",
       "3                   1       3   \n",
       "4                   1       1   \n",
       "5                   0       3   \n",
       "\n",
       "                                                          Name     Sex   Age  \\\n",
       "PassengerId                                                                    \n",
       "1                                      Braund, Mr. Owen Harris    male  22.0   \n",
       "2            Cumings, Mrs. John Bradley (Florence Briggs Th...  female  38.0   \n",
       "3                                       Heikkinen, Miss. Laina  female  26.0   \n",
       "4                 Futrelle, Mrs. Jacques Heath (Lily May Peel)  female  35.0   \n",
       "5                                     Allen, Mr. William Henry    male  35.0   \n",
       "\n",
       "             SibSp  Parch            Ticket     Fare Cabin Embarked  \n",
       "PassengerId                                                          \n",
       "1                1      0         A/5 21171   7.2500   NaN        S  \n",
       "2                1      0          PC 17599  71.2833   C85        C  \n",
       "3                0      0  STON/O2. 3101282   7.9250   NaN        S  \n",
       "4                1      0            113803  53.1000  C123        S  \n",
       "5                0      0            373450   8.0500   NaN        S  "
      ]
     },
     "execution_count": 2,
     "metadata": {},
     "output_type": "execute_result"
    }
   ],
   "source": [
    "train_df = pd.read_csv('/kaggle/input/titanic/train.csv', index_col=0)\n",
    "train_df.head(5)"
   ]
  },
  {
   "cell_type": "code",
   "execution_count": 3,
   "id": "cea9ce8a",
   "metadata": {
    "execution": {
     "iopub.execute_input": "2023-03-06T08:49:23.775263Z",
     "iopub.status.busy": "2023-03-06T08:49:23.774809Z",
     "iopub.status.idle": "2023-03-06T08:49:23.783140Z",
     "shell.execute_reply": "2023-03-06T08:49:23.782063Z"
    },
    "papermill": {
     "duration": 0.017834,
     "end_time": "2023-03-06T08:49:23.785300",
     "exception": false,
     "start_time": "2023-03-06T08:49:23.767466",
     "status": "completed"
    },
    "tags": []
   },
   "outputs": [
    {
     "data": {
      "text/plain": [
       "Survived      int64\n",
       "Pclass        int64\n",
       "Name         object\n",
       "Sex          object\n",
       "Age         float64\n",
       "SibSp         int64\n",
       "Parch         int64\n",
       "Ticket       object\n",
       "Fare        float64\n",
       "Cabin        object\n",
       "Embarked     object\n",
       "dtype: object"
      ]
     },
     "execution_count": 3,
     "metadata": {},
     "output_type": "execute_result"
    }
   ],
   "source": [
    "train_df.dtypes"
   ]
  },
  {
   "cell_type": "code",
   "execution_count": 4,
   "id": "bbf93e4d",
   "metadata": {
    "execution": {
     "iopub.execute_input": "2023-03-06T08:49:23.799081Z",
     "iopub.status.busy": "2023-03-06T08:49:23.798325Z",
     "iopub.status.idle": "2023-03-06T08:49:24.969647Z",
     "shell.execute_reply": "2023-03-06T08:49:24.968225Z"
    },
    "papermill": {
     "duration": 1.181492,
     "end_time": "2023-03-06T08:49:24.972536",
     "exception": false,
     "start_time": "2023-03-06T08:49:23.791044",
     "status": "completed"
    },
    "tags": []
   },
   "outputs": [],
   "source": [
    "from sklearn.preprocessing import LabelEncoder\n",
    "le = LabelEncoder()\n",
    "\n",
    "mean, std = dict(), dict()\n",
    "\n",
    "def age_type(age):\n",
    "    if age <= 1:\n",
    "        return \"newborn\"\n",
    "    if age <= 8:\n",
    "        return \"child\"\n",
    "    if age <= 13:\n",
    "        return \"teenager\"\n",
    "    if age <= 18:\n",
    "        return \"old teenager\"\n",
    "    if age <= 23:\n",
    "        return \"very young\"\n",
    "    if age <= 75:\n",
    "        return \"old\"\n",
    "    return \"very old\"\n",
    "\n",
    "\n",
    "def family_type(family_size):\n",
    "    if family_size <= 1:\n",
    "        return \"solo\"\n",
    "    if family_size <= 2:\n",
    "        return \"couple\"\n",
    "    if family_size <= 4:\n",
    "        return \"average family\"\n",
    "    return \"big family\"\n",
    "    \n",
    "\n",
    "def normalize(df, train):\n",
    "    df[\"AgeType\"] = df[\"Age\"].apply(age_type)\n",
    "    df[\"FamilySize\"] = (df[\"SibSp\"] + df[\"Parch\"] + 1)\n",
    "    df[\"FamilyType\"] = df[\"FamilySize\"].apply(family_type)\n",
    "    for col in df:\n",
    "        if col == 'Survived':\n",
    "            continue\n",
    "        if df[col].dtype == object:\n",
    "            le.fit(df[col])\n",
    "            df[col] = le.transform(df[col])\n",
    "            \n",
    "        df[col] = df[col].astype(float)\n",
    "        if train:\n",
    "            mean[col] = df[col].mean()\n",
    "            std[col] = df[col].std()\n",
    "        \n",
    "        df[col].fillna(mean[col], inplace=True)        \n",
    "        df[col] = (df[col] - mean[col]) / std[col]    \n",
    "    \n",
    "#     df.drop('Name', axis=1, inplace=True)    "
   ]
  },
  {
   "cell_type": "code",
   "execution_count": 5,
   "id": "7ba1b3dc",
   "metadata": {
    "execution": {
     "iopub.execute_input": "2023-03-06T08:49:24.986647Z",
     "iopub.status.busy": "2023-03-06T08:49:24.986178Z",
     "iopub.status.idle": "2023-03-06T08:49:25.036145Z",
     "shell.execute_reply": "2023-03-06T08:49:25.034768Z"
    },
    "papermill": {
     "duration": 0.059839,
     "end_time": "2023-03-06T08:49:25.038686",
     "exception": false,
     "start_time": "2023-03-06T08:49:24.978847",
     "status": "completed"
    },
    "tags": []
   },
   "outputs": [
    {
     "name": "stdout",
     "output_type": "stream",
     "text": [
      "FamilySize    0.016639\n",
      "SibSp         0.035322\n",
      "Name          0.057343\n",
      "Age           0.069809\n",
      "Parch         0.081629\n",
      "AgeType       0.137737\n",
      "Embarked      0.163517\n",
      "Ticket        0.164549\n",
      "FamilyType    0.186737\n",
      "Cabin         0.254888\n",
      "Fare          0.257307\n",
      "Pclass        0.338481\n",
      "Sex           0.543351\n",
      "Survived      1.000000\n",
      "Name: Survived, dtype: float64\n"
     ]
    }
   ],
   "source": [
    "normalize(train_df, True)\n",
    "print(abs(train_df.corr()['Survived']).sort_values())"
   ]
  },
  {
   "cell_type": "code",
   "execution_count": 6,
   "id": "4a86c354",
   "metadata": {
    "execution": {
     "iopub.execute_input": "2023-03-06T08:49:25.052997Z",
     "iopub.status.busy": "2023-03-06T08:49:25.052471Z",
     "iopub.status.idle": "2023-03-06T08:49:27.805387Z",
     "shell.execute_reply": "2023-03-06T08:49:27.803816Z"
    },
    "papermill": {
     "duration": 2.764049,
     "end_time": "2023-03-06T08:49:27.808629",
     "exception": false,
     "start_time": "2023-03-06T08:49:25.044580",
     "status": "completed"
    },
    "tags": []
   },
   "outputs": [],
   "source": [
    "from torch.utils.data import Dataset, DataLoader\n",
    "from torch import tensor\n",
    "import torch\n",
    "\n",
    "\n",
    "def get_probabilities(df):\n",
    "    survived, nsurvived = tensor(df['Survived'].values), tensor((1 - df['Survived']).values)\n",
    "    survived, nsurvived = survived.view(survived.shape[0], 1), nsurvived.view(nsurvived.shape[0], 1)\n",
    "    return torch.cat((nsurvived, survived), axis=1).float()\n",
    "\n",
    "class CustomDataset(Dataset):\n",
    "    def __init__(self, df):        \n",
    "        self.X = tensor(df.drop('Survived', axis=1).values)\n",
    "        self.Y = get_probabilities(df)\n",
    "        \n",
    "    def __len__(self):\n",
    "        return self.X.shape[0]\n",
    "    \n",
    "    def __getitem__(self, index):\n",
    "        return self.X[index], self.Y[index]\n",
    "    "
   ]
  },
  {
   "cell_type": "code",
   "execution_count": 7,
   "id": "54fd7f34",
   "metadata": {
    "execution": {
     "iopub.execute_input": "2023-03-06T08:49:27.823896Z",
     "iopub.status.busy": "2023-03-06T08:49:27.823134Z",
     "iopub.status.idle": "2023-03-06T08:49:27.836784Z",
     "shell.execute_reply": "2023-03-06T08:49:27.834825Z"
    },
    "papermill": {
     "duration": 0.025174,
     "end_time": "2023-03-06T08:49:27.839927",
     "exception": false,
     "start_time": "2023-03-06T08:49:27.814753",
     "status": "completed"
    },
    "tags": []
   },
   "outputs": [],
   "source": [
    "from torch import nn\n",
    "class Net(nn.Module):\n",
    "    def __init__(self, input_size, hidden_size1, dropout1, hidden_size2, dropout2, hidden_size3, dropout3, output_size):\n",
    "        super(Net, self).__init__()\n",
    "        self.fc1 = nn.Sequential(\n",
    "            nn.Flatten(),\n",
    "            nn.LazyLinear(hidden_size1, dtype=float),\n",
    "            nn.ReLU(),        \n",
    "        )\n",
    "        \n",
    "        self.dropout1 = nn.Dropout(dropout1)\n",
    "        \n",
    "        self.fc2 = nn.Sequential(\n",
    "            nn.LazyLinear(hidden_size2, dtype=float),\n",
    "            nn.ReLU(),\n",
    "        )\n",
    "        \n",
    "        self.dropout2 = nn.Dropout(dropout2)\n",
    "        \n",
    "        self.fc3 = nn.Sequential(\n",
    "            nn.LazyLinear(hidden_size3, dtype=float),\n",
    "            nn.ReLU(),\n",
    "        )\n",
    "        \n",
    "        self.dropout3 = nn.Dropout(dropout3)\n",
    "        \n",
    "        self.fc4 = nn.LazyLinear(output_size, dtype=float)\n",
    "        \n",
    "                \n",
    "        \n",
    "    def forward(self, x):                \n",
    "        y = self.fc1(x)\n",
    "        if self.train:\n",
    "            y = self.dropout1(y)\n",
    "            \n",
    "        y = self.fc2(y)        \n",
    "        if self.train:\n",
    "            y = self.dropout2(y)\n",
    "            \n",
    "        y = self.fc3(y)\n",
    "        \n",
    "        if self.train:\n",
    "            y = self.dropout3(y)\n",
    "            \n",
    "        y = self.fc4(y)\n",
    "        return y\n"
   ]
  },
  {
   "cell_type": "code",
   "execution_count": 8,
   "id": "c1d09a5c",
   "metadata": {
    "execution": {
     "iopub.execute_input": "2023-03-06T08:49:27.854721Z",
     "iopub.status.busy": "2023-03-06T08:49:27.854213Z",
     "iopub.status.idle": "2023-03-06T08:49:27.860406Z",
     "shell.execute_reply": "2023-03-06T08:49:27.858929Z"
    },
    "papermill": {
     "duration": 0.017102,
     "end_time": "2023-03-06T08:49:27.863358",
     "exception": false,
     "start_time": "2023-03-06T08:49:27.846256",
     "status": "completed"
    },
    "tags": []
   },
   "outputs": [],
   "source": [
    "hparams = {\n",
    "    'input_size': train_df.shape[1] - 2,\n",
    "    'hidden_size1': 100,\n",
    "    'dropout1': 0,\n",
    "    'hidden_size2': 500,\n",
    "    'dropout2': 0.5,\n",
    "    'hidden_size3': 250,\n",
    "    'dropout3': 0.25,\n",
    "    'output_size': 2,    \n",
    "}"
   ]
  },
  {
   "cell_type": "code",
   "execution_count": 9,
   "id": "e423b60c",
   "metadata": {
    "execution": {
     "iopub.execute_input": "2023-03-06T08:49:27.877319Z",
     "iopub.status.busy": "2023-03-06T08:49:27.876882Z",
     "iopub.status.idle": "2023-03-06T08:49:27.883421Z",
     "shell.execute_reply": "2023-03-06T08:49:27.881821Z"
    },
    "papermill": {
     "duration": 0.01684,
     "end_time": "2023-03-06T08:49:27.886272",
     "exception": false,
     "start_time": "2023-03-06T08:49:27.869432",
     "status": "completed"
    },
    "tags": []
   },
   "outputs": [],
   "source": [
    "criterion = torch.nn.CrossEntropyLoss()"
   ]
  },
  {
   "cell_type": "code",
   "execution_count": 10,
   "id": "5bfd09f0",
   "metadata": {
    "execution": {
     "iopub.execute_input": "2023-03-06T08:49:27.900285Z",
     "iopub.status.busy": "2023-03-06T08:49:27.899817Z",
     "iopub.status.idle": "2023-03-06T08:49:27.911293Z",
     "shell.execute_reply": "2023-03-06T08:49:27.909870Z"
    },
    "papermill": {
     "duration": 0.021924,
     "end_time": "2023-03-06T08:49:27.914209",
     "exception": false,
     "start_time": "2023-03-06T08:49:27.892285",
     "status": "completed"
    },
    "tags": []
   },
   "outputs": [],
   "source": [
    "def train(df, ec, lr, wd):\n",
    "    model = Net(**hparams)\n",
    "    model.train()\n",
    "    \n",
    "    optimizer = torch.optim.SGD(model.parameters(), lr=lr, weight_decay=wd)\n",
    "    dataset = CustomDataset(df)\n",
    "    dataloader = DataLoader(dataset, batch_size=32, shuffle=True)\n",
    "    \n",
    "    for epoch in range(ec):\n",
    "        correct = 0\n",
    "        total = 0\n",
    "\n",
    "        for batch in dataloader:\n",
    "            x_tensor, y_tensor = batch                                           \n",
    "            y_pred = model(x_tensor)\n",
    "            loss = criterion(y_pred, y_tensor)        \n",
    "\n",
    "            predictions = torch.argmax(y_pred, dim=1)\n",
    "            targets = torch.argmax(y_tensor, dim=1)\n",
    "            total += predictions.shape[0]\n",
    "            correct += (predictions==targets).sum().item()\n",
    "\n",
    "            assert not torch.isnan(loss)\n",
    "            optimizer.zero_grad()\n",
    "            loss.backward()\n",
    "            optimizer.step()\n",
    "            \n",
    "        if epoch == ec - 1:\n",
    "            print(f'{epoch:} {round(100*correct / total, 2)}')\n",
    "\n",
    "    return model\n",
    "    "
   ]
  },
  {
   "cell_type": "code",
   "execution_count": 11,
   "id": "e012674f",
   "metadata": {
    "execution": {
     "iopub.execute_input": "2023-03-06T08:49:27.928000Z",
     "iopub.status.busy": "2023-03-06T08:49:27.927549Z",
     "iopub.status.idle": "2023-03-06T08:49:27.938243Z",
     "shell.execute_reply": "2023-03-06T08:49:27.936897Z"
    },
    "papermill": {
     "duration": 0.020695,
     "end_time": "2023-03-06T08:49:27.940891",
     "exception": false,
     "start_time": "2023-03-06T08:49:27.920196",
     "status": "completed"
    },
    "tags": []
   },
   "outputs": [],
   "source": [
    "def k_fold(df, ec, lr, wd, k = 5):\n",
    "    fold_indices = np.array_split(np.arange(len(df)), k)    \n",
    "    total = 0\n",
    "    correct = 0\n",
    "    \n",
    "    for fold in range(k):\n",
    "        test_indices = fold_indices[fold]\n",
    "        train_indices = np.concatenate(fold_indices[:fold] + fold_indices[fold+1:])\n",
    "        \n",
    "        model = train(df.iloc[train_indices], ec, lr, wd)        \n",
    "        model.eval()\n",
    "        \n",
    "        x_tensor, y_tensor = tensor(df.values[test_indices, :-1]), get_probabilities(df.iloc[test_indices])\n",
    "        y_pred = model(x_tensor)    \n",
    "        correct += (torch.argmax(y_pred, dim=1) == torch.argmax(y_tensor, dim=1)).sum().item()\n",
    "        total += y_pred.shape[0]\n",
    "    \n",
    "    return round(100*correct / total, 2)"
   ]
  },
  {
   "cell_type": "code",
   "execution_count": 12,
   "id": "6904c687",
   "metadata": {
    "execution": {
     "iopub.execute_input": "2023-03-06T08:49:27.954741Z",
     "iopub.status.busy": "2023-03-06T08:49:27.954291Z",
     "iopub.status.idle": "2023-03-06T08:49:27.960226Z",
     "shell.execute_reply": "2023-03-06T08:49:27.958554Z"
    },
    "papermill": {
     "duration": 0.016309,
     "end_time": "2023-03-06T08:49:27.963083",
     "exception": false,
     "start_time": "2023-03-06T08:49:27.946774",
     "status": "completed"
    },
    "tags": []
   },
   "outputs": [],
   "source": [
    "# candidates = [0, 1e-5, 1e-4, 1e-3, 1e-2, 1e-1]\n",
    "\n",
    "# for candidate in candidates:    \n",
    "#     print(f'wd={candidate} --> {k_fold(train_df, ec=250, lr=1.5e-2, wd=candidate)}')"
   ]
  },
  {
   "cell_type": "code",
   "execution_count": 13,
   "id": "ca282fee",
   "metadata": {
    "execution": {
     "iopub.execute_input": "2023-03-06T08:49:27.976948Z",
     "iopub.status.busy": "2023-03-06T08:49:27.976491Z",
     "iopub.status.idle": "2023-03-06T08:49:48.934837Z",
     "shell.execute_reply": "2023-03-06T08:49:48.933340Z"
    },
    "papermill": {
     "duration": 20.969067,
     "end_time": "2023-03-06T08:49:48.938124",
     "exception": false,
     "start_time": "2023-03-06T08:49:27.969057",
     "status": "completed"
    },
    "tags": []
   },
   "outputs": [
    {
     "name": "stderr",
     "output_type": "stream",
     "text": [
      "/opt/conda/lib/python3.7/site-packages/torch/nn/modules/lazy.py:180: UserWarning: Lazy modules are a new feature under heavy development so changes to the API or functionality can happen at any moment.\n",
      "  warnings.warn('Lazy modules are a new feature under heavy development '\n"
     ]
    },
    {
     "name": "stdout",
     "output_type": "stream",
     "text": [
      "249 89.56\n"
     ]
    },
    {
     "data": {
      "text/plain": [
       "Net(\n",
       "  (fc1): Sequential(\n",
       "    (0): Flatten(start_dim=1, end_dim=-1)\n",
       "    (1): Linear(in_features=13, out_features=100, bias=True)\n",
       "    (2): ReLU()\n",
       "  )\n",
       "  (dropout1): Dropout(p=0, inplace=False)\n",
       "  (fc2): Sequential(\n",
       "    (0): Linear(in_features=100, out_features=500, bias=True)\n",
       "    (1): ReLU()\n",
       "  )\n",
       "  (dropout2): Dropout(p=0.5, inplace=False)\n",
       "  (fc3): Sequential(\n",
       "    (0): Linear(in_features=500, out_features=250, bias=True)\n",
       "    (1): ReLU()\n",
       "  )\n",
       "  (dropout3): Dropout(p=0.25, inplace=False)\n",
       "  (fc4): Linear(in_features=250, out_features=2, bias=True)\n",
       ")"
      ]
     },
     "execution_count": 13,
     "metadata": {},
     "output_type": "execute_result"
    }
   ],
   "source": [
    "model = train(train_df, ec=250, lr=1.5e-2, wd=1e-5)\n",
    "model.eval()"
   ]
  },
  {
   "cell_type": "code",
   "execution_count": 14,
   "id": "c8a42b24",
   "metadata": {
    "execution": {
     "iopub.execute_input": "2023-03-06T08:49:48.953419Z",
     "iopub.status.busy": "2023-03-06T08:49:48.952987Z",
     "iopub.status.idle": "2023-03-06T08:49:48.968936Z",
     "shell.execute_reply": "2023-03-06T08:49:48.967812Z"
    },
    "papermill": {
     "duration": 0.026697,
     "end_time": "2023-03-06T08:49:48.971965",
     "exception": false,
     "start_time": "2023-03-06T08:49:48.945268",
     "status": "completed"
    },
    "tags": []
   },
   "outputs": [],
   "source": [
    "test_df = pd.read_csv('/kaggle/input/titanic/test.csv', index_col=0)"
   ]
  },
  {
   "cell_type": "code",
   "execution_count": 15,
   "id": "53d9b750",
   "metadata": {
    "execution": {
     "iopub.execute_input": "2023-03-06T08:49:48.988222Z",
     "iopub.status.busy": "2023-03-06T08:49:48.986827Z",
     "iopub.status.idle": "2023-03-06T08:49:49.074331Z",
     "shell.execute_reply": "2023-03-06T08:49:49.073296Z"
    },
    "papermill": {
     "duration": 0.097786,
     "end_time": "2023-03-06T08:49:49.077006",
     "exception": false,
     "start_time": "2023-03-06T08:49:48.979220",
     "status": "completed"
    },
    "tags": []
   },
   "outputs": [
    {
     "data": {
      "text/html": [
       "<div>\n",
       "<style scoped>\n",
       "    .dataframe tbody tr th:only-of-type {\n",
       "        vertical-align: middle;\n",
       "    }\n",
       "\n",
       "    .dataframe tbody tr th {\n",
       "        vertical-align: top;\n",
       "    }\n",
       "\n",
       "    .dataframe thead th {\n",
       "        text-align: right;\n",
       "    }\n",
       "</style>\n",
       "<table border=\"1\" class=\"dataframe\">\n",
       "  <thead>\n",
       "    <tr style=\"text-align: right;\">\n",
       "      <th></th>\n",
       "      <th>Pclass</th>\n",
       "      <th>Name</th>\n",
       "      <th>Sex</th>\n",
       "      <th>Age</th>\n",
       "      <th>SibSp</th>\n",
       "      <th>Parch</th>\n",
       "      <th>Ticket</th>\n",
       "      <th>Fare</th>\n",
       "      <th>Cabin</th>\n",
       "      <th>Embarked</th>\n",
       "      <th>AgeType</th>\n",
       "      <th>FamilySize</th>\n",
       "      <th>FamilyType</th>\n",
       "    </tr>\n",
       "  </thead>\n",
       "  <tbody>\n",
       "    <tr>\n",
       "      <th>count</th>\n",
       "      <td>4.180000e+02</td>\n",
       "      <td>418.000000</td>\n",
       "      <td>4.180000e+02</td>\n",
       "      <td>4.180000e+02</td>\n",
       "      <td>4.180000e+02</td>\n",
       "      <td>4.180000e+02</td>\n",
       "      <td>4.180000e+02</td>\n",
       "      <td>4.180000e+02</td>\n",
       "      <td>4.180000e+02</td>\n",
       "      <td>4.180000e+02</td>\n",
       "      <td>4.180000e+02</td>\n",
       "      <td>4.180000e+02</td>\n",
       "      <td>4.180000e+02</td>\n",
       "    </tr>\n",
       "    <tr>\n",
       "      <th>mean</th>\n",
       "      <td>-3.081002e-17</td>\n",
       "      <td>0.000000</td>\n",
       "      <td>-3.824692e-17</td>\n",
       "      <td>3.505967e-17</td>\n",
       "      <td>-1.381139e-17</td>\n",
       "      <td>-5.524555e-17</td>\n",
       "      <td>-1.184592e-16</td>\n",
       "      <td>-1.912346e-17</td>\n",
       "      <td>1.019918e-16</td>\n",
       "      <td>-9.774212e-17</td>\n",
       "      <td>-1.083663e-16</td>\n",
       "      <td>-6.586969e-17</td>\n",
       "      <td>2.496674e-17</td>\n",
       "    </tr>\n",
       "    <tr>\n",
       "      <th>std</th>\n",
       "      <td>1.000000e+00</td>\n",
       "      <td>1.000000</td>\n",
       "      <td>1.000000e+00</td>\n",
       "      <td>8.909349e-01</td>\n",
       "      <td>1.000000e+00</td>\n",
       "      <td>1.000000e+00</td>\n",
       "      <td>1.000000e+00</td>\n",
       "      <td>9.988002e-01</td>\n",
       "      <td>1.000000e+00</td>\n",
       "      <td>1.000000e+00</td>\n",
       "      <td>1.000000e+00</td>\n",
       "      <td>1.000000e+00</td>\n",
       "      <td>1.000000e+00</td>\n",
       "    </tr>\n",
       "    <tr>\n",
       "      <th>min</th>\n",
       "      <td>-1.503319e+00</td>\n",
       "      <td>-1.725844</td>\n",
       "      <td>-1.321292e+00</td>\n",
       "      <td>-2.122710e+00</td>\n",
       "      <td>-4.988722e-01</td>\n",
       "      <td>-3.997686e-01</td>\n",
       "      <td>-1.682681e+00</td>\n",
       "      <td>-6.372515e-01</td>\n",
       "      <td>-3.532364e+00</td>\n",
       "      <td>-1.640632e+00</td>\n",
       "      <td>-1.900960e+00</td>\n",
       "      <td>-5.527802e-01</td>\n",
       "      <td>-1.953925e+00</td>\n",
       "    </tr>\n",
       "    <tr>\n",
       "      <th>25%</th>\n",
       "      <td>-1.503319e+00</td>\n",
       "      <td>-0.862922</td>\n",
       "      <td>-1.321292e+00</td>\n",
       "      <td>-5.128329e-01</td>\n",
       "      <td>-4.988722e-01</td>\n",
       "      <td>-3.997686e-01</td>\n",
       "      <td>-8.899063e-01</td>\n",
       "      <td>-4.960220e-01</td>\n",
       "      <td>4.484846e-01</td>\n",
       "      <td>-4.703517e-01</td>\n",
       "      <td>-7.281169e-01</td>\n",
       "      <td>-5.527802e-01</td>\n",
       "      <td>-1.918093e-01</td>\n",
       "    </tr>\n",
       "    <tr>\n",
       "      <th>50%</th>\n",
       "      <td>8.724364e-01</td>\n",
       "      <td>0.000000</td>\n",
       "      <td>7.550242e-01</td>\n",
       "      <td>0.000000e+00</td>\n",
       "      <td>-4.988722e-01</td>\n",
       "      <td>-3.997686e-01</td>\n",
       "      <td>5.116897e-04</td>\n",
       "      <td>-3.787141e-01</td>\n",
       "      <td>4.484846e-01</td>\n",
       "      <td>6.999282e-01</td>\n",
       "      <td>-7.281169e-01</td>\n",
       "      <td>-5.527802e-01</td>\n",
       "      <td>6.892487e-01</td>\n",
       "    </tr>\n",
       "    <tr>\n",
       "      <th>75%</th>\n",
       "      <td>8.724364e-01</td>\n",
       "      <td>0.862922</td>\n",
       "      <td>7.550242e-01</td>\n",
       "      <td>3.862442e-01</td>\n",
       "      <td>6.162539e-01</td>\n",
       "      <td>-3.997686e-01</td>\n",
       "      <td>9.188279e-01</td>\n",
       "      <td>-7.382163e-02</td>\n",
       "      <td>4.484846e-01</td>\n",
       "      <td>6.999282e-01</td>\n",
       "      <td>1.031148e+00</td>\n",
       "      <td>1.055164e-01</td>\n",
       "      <td>6.892487e-01</td>\n",
       "    </tr>\n",
       "    <tr>\n",
       "      <th>max</th>\n",
       "      <td>8.724364e-01</td>\n",
       "      <td>1.725844</td>\n",
       "      <td>7.550242e-01</td>\n",
       "      <td>3.224507e+00</td>\n",
       "      <td>8.422137e+00</td>\n",
       "      <td>8.770534e+00</td>\n",
       "      <td>1.683704e+00</td>\n",
       "      <td>8.526608e+00</td>\n",
       "      <td>4.484846e-01</td>\n",
       "      <td>6.999282e-01</td>\n",
       "      <td>1.617570e+00</td>\n",
       "      <td>6.030186e+00</td>\n",
       "      <td>6.892487e-01</td>\n",
       "    </tr>\n",
       "  </tbody>\n",
       "</table>\n",
       "</div>"
      ],
      "text/plain": [
       "             Pclass        Name           Sex           Age         SibSp  \\\n",
       "count  4.180000e+02  418.000000  4.180000e+02  4.180000e+02  4.180000e+02   \n",
       "mean  -3.081002e-17    0.000000 -3.824692e-17  3.505967e-17 -1.381139e-17   \n",
       "std    1.000000e+00    1.000000  1.000000e+00  8.909349e-01  1.000000e+00   \n",
       "min   -1.503319e+00   -1.725844 -1.321292e+00 -2.122710e+00 -4.988722e-01   \n",
       "25%   -1.503319e+00   -0.862922 -1.321292e+00 -5.128329e-01 -4.988722e-01   \n",
       "50%    8.724364e-01    0.000000  7.550242e-01  0.000000e+00 -4.988722e-01   \n",
       "75%    8.724364e-01    0.862922  7.550242e-01  3.862442e-01  6.162539e-01   \n",
       "max    8.724364e-01    1.725844  7.550242e-01  3.224507e+00  8.422137e+00   \n",
       "\n",
       "              Parch        Ticket          Fare         Cabin      Embarked  \\\n",
       "count  4.180000e+02  4.180000e+02  4.180000e+02  4.180000e+02  4.180000e+02   \n",
       "mean  -5.524555e-17 -1.184592e-16 -1.912346e-17  1.019918e-16 -9.774212e-17   \n",
       "std    1.000000e+00  1.000000e+00  9.988002e-01  1.000000e+00  1.000000e+00   \n",
       "min   -3.997686e-01 -1.682681e+00 -6.372515e-01 -3.532364e+00 -1.640632e+00   \n",
       "25%   -3.997686e-01 -8.899063e-01 -4.960220e-01  4.484846e-01 -4.703517e-01   \n",
       "50%   -3.997686e-01  5.116897e-04 -3.787141e-01  4.484846e-01  6.999282e-01   \n",
       "75%   -3.997686e-01  9.188279e-01 -7.382163e-02  4.484846e-01  6.999282e-01   \n",
       "max    8.770534e+00  1.683704e+00  8.526608e+00  4.484846e-01  6.999282e-01   \n",
       "\n",
       "            AgeType    FamilySize    FamilyType  \n",
       "count  4.180000e+02  4.180000e+02  4.180000e+02  \n",
       "mean  -1.083663e-16 -6.586969e-17  2.496674e-17  \n",
       "std    1.000000e+00  1.000000e+00  1.000000e+00  \n",
       "min   -1.900960e+00 -5.527802e-01 -1.953925e+00  \n",
       "25%   -7.281169e-01 -5.527802e-01 -1.918093e-01  \n",
       "50%   -7.281169e-01 -5.527802e-01  6.892487e-01  \n",
       "75%    1.031148e+00  1.055164e-01  6.892487e-01  \n",
       "max    1.617570e+00  6.030186e+00  6.892487e-01  "
      ]
     },
     "execution_count": 15,
     "metadata": {},
     "output_type": "execute_result"
    }
   ],
   "source": [
    "normalize(test_df, True)\n",
    "test_df.describe()"
   ]
  },
  {
   "cell_type": "code",
   "execution_count": 16,
   "id": "f4949e7a",
   "metadata": {
    "execution": {
     "iopub.execute_input": "2023-03-06T08:49:49.092405Z",
     "iopub.status.busy": "2023-03-06T08:49:49.091660Z",
     "iopub.status.idle": "2023-03-06T08:49:49.098458Z",
     "shell.execute_reply": "2023-03-06T08:49:49.097582Z"
    },
    "papermill": {
     "duration": 0.01745,
     "end_time": "2023-03-06T08:49:49.100910",
     "exception": false,
     "start_time": "2023-03-06T08:49:49.083460",
     "status": "completed"
    },
    "tags": []
   },
   "outputs": [
    {
     "data": {
      "text/plain": [
       "torch.Size([418, 13])"
      ]
     },
     "execution_count": 16,
     "metadata": {},
     "output_type": "execute_result"
    }
   ],
   "source": [
    "x_tensor = torch.tensor(test_df.iloc[:, :].values, dtype=float)\n",
    "x_tensor.shape"
   ]
  },
  {
   "cell_type": "code",
   "execution_count": 17,
   "id": "be47b53c",
   "metadata": {
    "execution": {
     "iopub.execute_input": "2023-03-06T08:49:49.116542Z",
     "iopub.status.busy": "2023-03-06T08:49:49.115807Z",
     "iopub.status.idle": "2023-03-06T08:49:49.136283Z",
     "shell.execute_reply": "2023-03-06T08:49:49.135020Z"
    },
    "papermill": {
     "duration": 0.031939,
     "end_time": "2023-03-06T08:49:49.139497",
     "exception": false,
     "start_time": "2023-03-06T08:49:49.107558",
     "status": "completed"
    },
    "tags": []
   },
   "outputs": [],
   "source": [
    "with torch.no_grad():\n",
    "    outputs = model(x_tensor)\n",
    "    predicted_classes = torch.argmax(outputs, dim=1)\n",
    "    result = pd.DataFrame({'PassengerId': test_df.index, 'Survived': predicted_classes})\n",
    "    result.to_csv('sub.csv', index=False)"
   ]
  },
  {
   "cell_type": "code",
   "execution_count": null,
   "id": "cd5163d5",
   "metadata": {
    "papermill": {
     "duration": 0.006342,
     "end_time": "2023-03-06T08:49:49.153203",
     "exception": false,
     "start_time": "2023-03-06T08:49:49.146861",
     "status": "completed"
    },
    "tags": []
   },
   "outputs": [],
   "source": []
  },
  {
   "cell_type": "code",
   "execution_count": null,
   "id": "337ccf6e",
   "metadata": {
    "papermill": {
     "duration": 0.006255,
     "end_time": "2023-03-06T08:49:49.166088",
     "exception": false,
     "start_time": "2023-03-06T08:49:49.159833",
     "status": "completed"
    },
    "tags": []
   },
   "outputs": [],
   "source": []
  }
 ],
 "metadata": {
  "kernelspec": {
   "display_name": "Python 3",
   "language": "python",
   "name": "python3"
  },
  "language_info": {
   "codemirror_mode": {
    "name": "ipython",
    "version": 3
   },
   "file_extension": ".py",
   "mimetype": "text/x-python",
   "name": "python",
   "nbconvert_exporter": "python",
   "pygments_lexer": "ipython3",
   "version": "3.7.12"
  },
  "papermill": {
   "default_parameters": {},
   "duration": 39.742815,
   "end_time": "2023-03-06T08:49:50.298074",
   "environment_variables": {},
   "exception": null,
   "input_path": "__notebook__.ipynb",
   "output_path": "__notebook__.ipynb",
   "parameters": {},
   "start_time": "2023-03-06T08:49:10.555259",
   "version": "2.4.0"
  }
 },
 "nbformat": 4,
 "nbformat_minor": 5
}
