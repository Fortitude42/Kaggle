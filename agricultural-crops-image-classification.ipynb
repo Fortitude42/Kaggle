{
 "cells": [
  {
   "cell_type": "code",
   "execution_count": 1,
   "id": "9fa84368",
   "metadata": {
    "_cell_guid": "b1076dfc-b9ad-4769-8c92-a6c4dae69d19",
    "_uuid": "8f2839f25d086af736a60e9eeb907d3b93b6e0e5",
    "execution": {
     "iopub.execute_input": "2023-11-08T06:03:02.604589Z",
     "iopub.status.busy": "2023-11-08T06:03:02.604142Z",
     "iopub.status.idle": "2023-11-08T06:03:02.638986Z",
     "shell.execute_reply": "2023-11-08T06:03:02.637838Z"
    },
    "papermill": {
     "duration": 0.047055,
     "end_time": "2023-11-08T06:03:02.641623",
     "exception": false,
     "start_time": "2023-11-08T06:03:02.594568",
     "status": "completed"
    },
    "tags": []
   },
   "outputs": [
    {
     "data": {
      "text/plain": [
       "30"
      ]
     },
     "execution_count": 1,
     "metadata": {},
     "output_type": "execute_result"
    }
   ],
   "source": [
    "from glob import glob\n",
    "\n",
    "path = '/kaggle/input/agricultural-crops-image-classification/Agricultural-crops'\n",
    "\n",
    "label_paths = sorted(glob(path+'/*'))\n",
    "\n",
    "len(label_paths)"
   ]
  },
  {
   "cell_type": "markdown",
   "id": "b672d275",
   "metadata": {
    "papermill": {
     "duration": 0.007312,
     "end_time": "2023-11-08T06:03:02.657196",
     "exception": false,
     "start_time": "2023-11-08T06:03:02.649884",
     "status": "completed"
    },
    "tags": []
   },
   "source": [
    "There are 30 class labels of crops"
   ]
  },
  {
   "cell_type": "code",
   "execution_count": 2,
   "id": "7715c2fc",
   "metadata": {
    "execution": {
     "iopub.execute_input": "2023-11-08T06:03:02.674150Z",
     "iopub.status.busy": "2023-11-08T06:03:02.673488Z",
     "iopub.status.idle": "2023-11-08T06:03:16.302876Z",
     "shell.execute_reply": "2023-11-08T06:03:16.301805Z"
    },
    "papermill": {
     "duration": 13.640875,
     "end_time": "2023-11-08T06:03:16.305608",
     "exception": false,
     "start_time": "2023-11-08T06:03:02.664733",
     "status": "completed"
    },
    "tags": []
   },
   "outputs": [],
   "source": [
    "from PIL import Image\n",
    "import cv2 as cv\n",
    "\n",
    "images = [[] for _ in range(len(label_paths))]\n",
    "for label in range(len(label_paths)):    \n",
    "    image_paths = glob(label_paths[label]+\"/*\")        \n",
    "    for ip in image_paths:        \n",
    "        images[label].append(cv.imread(ip))        "
   ]
  },
  {
   "cell_type": "code",
   "execution_count": 3,
   "id": "0484ba25",
   "metadata": {
    "execution": {
     "iopub.execute_input": "2023-11-08T06:03:16.322886Z",
     "iopub.status.busy": "2023-11-08T06:03:16.322477Z",
     "iopub.status.idle": "2023-11-08T06:03:17.164964Z",
     "shell.execute_reply": "2023-11-08T06:03:17.163854Z"
    },
    "papermill": {
     "duration": 0.854056,
     "end_time": "2023-11-08T06:03:17.167593",
     "exception": false,
     "start_time": "2023-11-08T06:03:16.313537",
     "status": "completed"
    },
    "tags": []
   },
   "outputs": [
    {
     "data": {
      "text/html": [
       "<div>\n",
       "<style scoped>\n",
       "    .dataframe tbody tr th:only-of-type {\n",
       "        vertical-align: middle;\n",
       "    }\n",
       "\n",
       "    .dataframe tbody tr th {\n",
       "        vertical-align: top;\n",
       "    }\n",
       "\n",
       "    .dataframe thead th {\n",
       "        text-align: right;\n",
       "    }\n",
       "</style>\n",
       "<table border=\"1\" class=\"dataframe\">\n",
       "  <thead>\n",
       "    <tr style=\"text-align: right;\">\n",
       "      <th></th>\n",
       "      <th>label</th>\n",
       "      <th>number of elements</th>\n",
       "    </tr>\n",
       "  </thead>\n",
       "  <tbody>\n",
       "    <tr>\n",
       "      <th>0</th>\n",
       "      <td>0</td>\n",
       "      <td>32</td>\n",
       "    </tr>\n",
       "    <tr>\n",
       "      <th>1</th>\n",
       "      <td>1</td>\n",
       "      <td>29</td>\n",
       "    </tr>\n",
       "    <tr>\n",
       "      <th>2</th>\n",
       "      <td>2</td>\n",
       "      <td>31</td>\n",
       "    </tr>\n",
       "    <tr>\n",
       "      <th>3</th>\n",
       "      <td>3</td>\n",
       "      <td>23</td>\n",
       "    </tr>\n",
       "    <tr>\n",
       "      <th>4</th>\n",
       "      <td>4</td>\n",
       "      <td>28</td>\n",
       "    </tr>\n",
       "    <tr>\n",
       "      <th>5</th>\n",
       "      <td>5</td>\n",
       "      <td>30</td>\n",
       "    </tr>\n",
       "    <tr>\n",
       "      <th>6</th>\n",
       "      <td>6</td>\n",
       "      <td>39</td>\n",
       "    </tr>\n",
       "    <tr>\n",
       "      <th>7</th>\n",
       "      <td>7</td>\n",
       "      <td>33</td>\n",
       "    </tr>\n",
       "    <tr>\n",
       "      <th>8</th>\n",
       "      <td>8</td>\n",
       "      <td>21</td>\n",
       "    </tr>\n",
       "    <tr>\n",
       "      <th>9</th>\n",
       "      <td>9</td>\n",
       "      <td>31</td>\n",
       "    </tr>\n",
       "    <tr>\n",
       "      <th>10</th>\n",
       "      <td>10</td>\n",
       "      <td>22</td>\n",
       "    </tr>\n",
       "    <tr>\n",
       "      <th>11</th>\n",
       "      <td>11</td>\n",
       "      <td>23</td>\n",
       "    </tr>\n",
       "    <tr>\n",
       "      <th>12</th>\n",
       "      <td>12</td>\n",
       "      <td>30</td>\n",
       "    </tr>\n",
       "    <tr>\n",
       "      <th>13</th>\n",
       "      <td>13</td>\n",
       "      <td>25</td>\n",
       "    </tr>\n",
       "    <tr>\n",
       "      <th>14</th>\n",
       "      <td>14</td>\n",
       "      <td>32</td>\n",
       "    </tr>\n",
       "    <tr>\n",
       "      <th>15</th>\n",
       "      <td>15</td>\n",
       "      <td>25</td>\n",
       "    </tr>\n",
       "    <tr>\n",
       "      <th>16</th>\n",
       "      <td>16</td>\n",
       "      <td>30</td>\n",
       "    </tr>\n",
       "    <tr>\n",
       "      <th>17</th>\n",
       "      <td>17</td>\n",
       "      <td>23</td>\n",
       "    </tr>\n",
       "    <tr>\n",
       "      <th>18</th>\n",
       "      <td>18</td>\n",
       "      <td>31</td>\n",
       "    </tr>\n",
       "    <tr>\n",
       "      <th>19</th>\n",
       "      <td>19</td>\n",
       "      <td>28</td>\n",
       "    </tr>\n",
       "    <tr>\n",
       "      <th>20</th>\n",
       "      <td>20</td>\n",
       "      <td>23</td>\n",
       "    </tr>\n",
       "    <tr>\n",
       "      <th>21</th>\n",
       "      <td>21</td>\n",
       "      <td>25</td>\n",
       "    </tr>\n",
       "    <tr>\n",
       "      <th>22</th>\n",
       "      <td>22</td>\n",
       "      <td>29</td>\n",
       "    </tr>\n",
       "    <tr>\n",
       "      <th>23</th>\n",
       "      <td>23</td>\n",
       "      <td>30</td>\n",
       "    </tr>\n",
       "    <tr>\n",
       "      <th>24</th>\n",
       "      <td>24</td>\n",
       "      <td>25</td>\n",
       "    </tr>\n",
       "    <tr>\n",
       "      <th>25</th>\n",
       "      <td>25</td>\n",
       "      <td>24</td>\n",
       "    </tr>\n",
       "    <tr>\n",
       "      <th>26</th>\n",
       "      <td>26</td>\n",
       "      <td>23</td>\n",
       "    </tr>\n",
       "    <tr>\n",
       "      <th>27</th>\n",
       "      <td>27</td>\n",
       "      <td>26</td>\n",
       "    </tr>\n",
       "    <tr>\n",
       "      <th>28</th>\n",
       "      <td>28</td>\n",
       "      <td>27</td>\n",
       "    </tr>\n",
       "    <tr>\n",
       "      <th>29</th>\n",
       "      <td>29</td>\n",
       "      <td>31</td>\n",
       "    </tr>\n",
       "  </tbody>\n",
       "</table>\n",
       "</div>"
      ],
      "text/plain": [
       "    label  number of elements\n",
       "0       0                  32\n",
       "1       1                  29\n",
       "2       2                  31\n",
       "3       3                  23\n",
       "4       4                  28\n",
       "5       5                  30\n",
       "6       6                  39\n",
       "7       7                  33\n",
       "8       8                  21\n",
       "9       9                  31\n",
       "10     10                  22\n",
       "11     11                  23\n",
       "12     12                  30\n",
       "13     13                  25\n",
       "14     14                  32\n",
       "15     15                  25\n",
       "16     16                  30\n",
       "17     17                  23\n",
       "18     18                  31\n",
       "19     19                  28\n",
       "20     20                  23\n",
       "21     21                  25\n",
       "22     22                  29\n",
       "23     23                  30\n",
       "24     24                  25\n",
       "25     25                  24\n",
       "26     26                  23\n",
       "27     27                  26\n",
       "28     28                  27\n",
       "29     29                  31"
      ]
     },
     "execution_count": 3,
     "metadata": {},
     "output_type": "execute_result"
    }
   ],
   "source": [
    "import pandas as pd\n",
    "\n",
    "sizes, labels = [],[]\n",
    "for label in range(len(label_paths)):\n",
    "    sizes.append(len(images[label]))\n",
    "    labels.append(label)\n",
    "num_by_label = pd.DataFrame({'label': labels, 'number of elements': sizes})\n",
    "num_by_label"
   ]
  },
  {
   "cell_type": "markdown",
   "id": "0bb3cfb9",
   "metadata": {
    "papermill": {
     "duration": 0.00763,
     "end_time": "2023-11-08T06:03:17.183155",
     "exception": false,
     "start_time": "2023-11-08T06:03:17.175525",
     "status": "completed"
    },
    "tags": []
   },
   "source": [
    "Every label has about 20-40 elements"
   ]
  },
  {
   "cell_type": "code",
   "execution_count": 4,
   "id": "5dc1e88f",
   "metadata": {
    "execution": {
     "iopub.execute_input": "2023-11-08T06:03:17.200771Z",
     "iopub.status.busy": "2023-11-08T06:03:17.200201Z",
     "iopub.status.idle": "2023-11-08T06:03:17.211222Z",
     "shell.execute_reply": "2023-11-08T06:03:17.210464Z"
    },
    "papermill": {
     "duration": 0.022501,
     "end_time": "2023-11-08T06:03:17.213496",
     "exception": false,
     "start_time": "2023-11-08T06:03:17.190995",
     "status": "completed"
    },
    "tags": []
   },
   "outputs": [
    {
     "data": {
      "text/html": [
       "<div>\n",
       "<style scoped>\n",
       "    .dataframe tbody tr th:only-of-type {\n",
       "        vertical-align: middle;\n",
       "    }\n",
       "\n",
       "    .dataframe tbody tr th {\n",
       "        vertical-align: top;\n",
       "    }\n",
       "\n",
       "    .dataframe thead th {\n",
       "        text-align: right;\n",
       "    }\n",
       "</style>\n",
       "<table border=\"1\" class=\"dataframe\">\n",
       "  <thead>\n",
       "    <tr style=\"text-align: right;\">\n",
       "      <th></th>\n",
       "      <th>Rows</th>\n",
       "      <th>Columns</th>\n",
       "      <th>Channels</th>\n",
       "    </tr>\n",
       "  </thead>\n",
       "  <tbody>\n",
       "    <tr>\n",
       "      <th>0</th>\n",
       "      <td>225</td>\n",
       "      <td>225</td>\n",
       "      <td>3</td>\n",
       "    </tr>\n",
       "    <tr>\n",
       "      <th>1</th>\n",
       "      <td>251</td>\n",
       "      <td>201</td>\n",
       "      <td>3</td>\n",
       "    </tr>\n",
       "    <tr>\n",
       "      <th>2</th>\n",
       "      <td>183</td>\n",
       "      <td>275</td>\n",
       "      <td>3</td>\n",
       "    </tr>\n",
       "    <tr>\n",
       "      <th>3</th>\n",
       "      <td>182</td>\n",
       "      <td>277</td>\n",
       "      <td>3</td>\n",
       "    </tr>\n",
       "    <tr>\n",
       "      <th>4</th>\n",
       "      <td>225</td>\n",
       "      <td>225</td>\n",
       "      <td>3</td>\n",
       "    </tr>\n",
       "  </tbody>\n",
       "</table>\n",
       "</div>"
      ],
      "text/plain": [
       "   Rows  Columns  Channels\n",
       "0   225      225         3\n",
       "1   251      201         3\n",
       "2   183      275         3\n",
       "3   182      277         3\n",
       "4   225      225         3"
      ]
     },
     "execution_count": 4,
     "metadata": {},
     "output_type": "execute_result"
    }
   ],
   "source": [
    "shapes = pd.DataFrame([arr.shape for arr in images[0]], columns=['Rows', 'Columns', 'Channels'])\n",
    "shapes.head()"
   ]
  },
  {
   "cell_type": "markdown",
   "id": "acc9d933",
   "metadata": {
    "papermill": {
     "duration": 0.007788,
     "end_time": "2023-11-08T06:03:17.229435",
     "exception": false,
     "start_time": "2023-11-08T06:03:17.221647",
     "status": "completed"
    },
    "tags": []
   },
   "source": [
    "From here, we can see that images have differrent number of rows and columns. So we need to resize images to one shape."
   ]
  },
  {
   "cell_type": "code",
   "execution_count": 5,
   "id": "a08afcb2",
   "metadata": {
    "execution": {
     "iopub.execute_input": "2023-11-08T06:03:17.248035Z",
     "iopub.status.busy": "2023-11-08T06:03:17.247066Z",
     "iopub.status.idle": "2023-11-08T06:03:17.392301Z",
     "shell.execute_reply": "2023-11-08T06:03:17.391234Z"
    },
    "papermill": {
     "duration": 0.158007,
     "end_time": "2023-11-08T06:03:17.395534",
     "exception": false,
     "start_time": "2023-11-08T06:03:17.237527",
     "status": "completed"
    },
    "tags": []
   },
   "outputs": [
    {
     "data": {
      "text/plain": [
       "(829, 829, (128, 128, 3))"
      ]
     },
     "execution_count": 5,
     "metadata": {},
     "output_type": "execute_result"
    }
   ],
   "source": [
    "H, W = 128, 128\n",
    "reshaped_images = []\n",
    "labels = []\n",
    "\n",
    "for label in range(len(images)):\n",
    "    for image in images[label]:\n",
    "        reshaped_image = cv.resize(image, (H, W))\n",
    "        reshaped_images.append(reshaped_image)\n",
    "        labels.append(label)\n",
    "        \n",
    "len(reshaped_images), len(labels), reshaped_images[0].shape"
   ]
  },
  {
   "cell_type": "markdown",
   "id": "11fe72c1",
   "metadata": {
    "papermill": {
     "duration": 0.011342,
     "end_time": "2023-11-08T06:03:17.418564",
     "exception": false,
     "start_time": "2023-11-08T06:03:17.407222",
     "status": "completed"
    },
    "tags": []
   },
   "source": [
    "We have 829 images in total. And now every image has a shape of (128, 128, 3)"
   ]
  },
  {
   "cell_type": "code",
   "execution_count": 6,
   "id": "e831e201",
   "metadata": {
    "execution": {
     "iopub.execute_input": "2023-11-08T06:03:17.443736Z",
     "iopub.status.busy": "2023-11-08T06:03:17.443285Z",
     "iopub.status.idle": "2023-11-08T06:03:17.468426Z",
     "shell.execute_reply": "2023-11-08T06:03:17.467241Z"
    },
    "papermill": {
     "duration": 0.041795,
     "end_time": "2023-11-08T06:03:17.472091",
     "exception": false,
     "start_time": "2023-11-08T06:03:17.430296",
     "status": "completed"
    },
    "tags": []
   },
   "outputs": [
    {
     "data": {
      "text/plain": [
       "((829, 49152), (829,))"
      ]
     },
     "execution_count": 6,
     "metadata": {},
     "output_type": "execute_result"
    }
   ],
   "source": [
    "import numpy as np\n",
    "X = np.stack(reshaped_images, axis=0)\n",
    "y = np.stack(labels, axis=0)\n",
    "X = X.reshape(X.shape[0], -1)\n",
    "X.shape, y.shape"
   ]
  },
  {
   "cell_type": "markdown",
   "id": "7fc4d103",
   "metadata": {
    "papermill": {
     "duration": 0.01165,
     "end_time": "2023-11-08T06:03:17.495758",
     "exception": false,
     "start_time": "2023-11-08T06:03:17.484108",
     "status": "completed"
    },
    "tags": []
   },
   "source": [
    "We collected all input data, and labels into 2 numpy arrays. Also, we flattened our images into 1 dimension."
   ]
  },
  {
   "cell_type": "code",
   "execution_count": 7,
   "id": "f6ebb6e4",
   "metadata": {
    "execution": {
     "iopub.execute_input": "2023-11-08T06:03:17.521637Z",
     "iopub.status.busy": "2023-11-08T06:03:17.521205Z",
     "iopub.status.idle": "2023-11-08T06:03:18.867963Z",
     "shell.execute_reply": "2023-11-08T06:03:18.866802Z"
    },
    "papermill": {
     "duration": 1.363405,
     "end_time": "2023-11-08T06:03:18.871061",
     "exception": false,
     "start_time": "2023-11-08T06:03:17.507656",
     "status": "completed"
    },
    "tags": []
   },
   "outputs": [],
   "source": [
    "from sklearn.model_selection import train_test_split\n",
    "\n",
    "X_train, X_test, y_train, y_test = train_test_split(X, y, test_size=0.1, random_state=42)"
   ]
  },
  {
   "cell_type": "markdown",
   "id": "b22e366d",
   "metadata": {
    "papermill": {
     "duration": 0.008085,
     "end_time": "2023-11-08T06:03:18.887721",
     "exception": false,
     "start_time": "2023-11-08T06:03:18.879636",
     "status": "completed"
    },
    "tags": []
   },
   "source": [
    "Here, we split data into test and train, with test_size=0.1"
   ]
  },
  {
   "cell_type": "code",
   "execution_count": 8,
   "id": "9b0efb2d",
   "metadata": {
    "execution": {
     "iopub.execute_input": "2023-11-08T06:03:18.906587Z",
     "iopub.status.busy": "2023-11-08T06:03:18.906119Z",
     "iopub.status.idle": "2023-11-08T06:03:18.918945Z",
     "shell.execute_reply": "2023-11-08T06:03:18.917814Z"
    },
    "papermill": {
     "duration": 0.025286,
     "end_time": "2023-11-08T06:03:18.921553",
     "exception": false,
     "start_time": "2023-11-08T06:03:18.896267",
     "status": "completed"
    },
    "tags": []
   },
   "outputs": [],
   "source": [
    "class SoftmaxRegression:\n",
    "    def __init__(self, num_classes, learning_rate=0.05, epochs=100):\n",
    "        self.num_classes = num_classes\n",
    "        self.learning_rate = learning_rate\n",
    "        self.epochs = epochs\n",
    "\n",
    "    def _softmax(self, X):\n",
    "        exp_scores = np.exp(X - np.max(X, axis=1, keepdims=True))\n",
    "        return exp_scores / np.sum(exp_scores, axis=1, keepdims=True)\n",
    "\n",
    "    def _one_hot_encoding(self, y):\n",
    "        one_hot = np.zeros((len(y), self.num_classes))\n",
    "        one_hot[range(len(y)), y] = 1\n",
    "        return one_hot\n",
    "\n",
    "    def train(self, X, y):\n",
    "        y_one_hot = self._one_hot_encoding(y)\n",
    "        self.weights = np.zeros((X.shape[1], self.num_classes))\n",
    "\n",
    "        for epoch in range(self.epochs):\n",
    "            scores = X.dot(self.weights)\n",
    "            predictions = self._softmax(scores)\n",
    "\n",
    "            # Compute the gradient\n",
    "            error = predictions - y_one_hot\n",
    "            gradient = X.T.dot(error) / len(y)\n",
    "\n",
    "            # Update weights using gradient descent\n",
    "            self.weights -= self.learning_rate * gradient\n",
    "\n",
    "    def predict(self, X):\n",
    "        scores = X.dot(self.weights)\n",
    "        predictions = self._softmax(scores)\n",
    "        return np.argmax(predictions, axis=1)"
   ]
  },
  {
   "cell_type": "markdown",
   "id": "e7f627e7",
   "metadata": {
    "papermill": {
     "duration": 0.008034,
     "end_time": "2023-11-08T06:03:18.937945",
     "exception": false,
     "start_time": "2023-11-08T06:03:18.929911",
     "status": "completed"
    },
    "tags": []
   },
   "source": [
    "Softmax Regression with learning rate=0.001, and 1000 epochs"
   ]
  },
  {
   "cell_type": "code",
   "execution_count": 9,
   "id": "22e60c36",
   "metadata": {
    "execution": {
     "iopub.execute_input": "2023-11-08T06:03:18.956422Z",
     "iopub.status.busy": "2023-11-08T06:03:18.956000Z",
     "iopub.status.idle": "2023-11-08T06:07:20.525323Z",
     "shell.execute_reply": "2023-11-08T06:07:20.523522Z"
    },
    "papermill": {
     "duration": 241.593639,
     "end_time": "2023-11-08T06:07:20.539859",
     "exception": false,
     "start_time": "2023-11-08T06:03:18.946220",
     "status": "completed"
    },
    "tags": []
   },
   "outputs": [
    {
     "name": "stderr",
     "output_type": "stream",
     "text": [
      "5it [04:01, 48.29s/it]"
     ]
    },
    {
     "name": "stdout",
     "output_type": "stream",
     "text": [
      "Average Accuracy: 15.68%\n"
     ]
    },
    {
     "name": "stderr",
     "output_type": "stream",
     "text": [
      "\n"
     ]
    }
   ],
   "source": [
    "from sklearn.model_selection import KFold\n",
    "import matplotlib.pyplot as plt\n",
    "from tqdm import tqdm\n",
    "\n",
    "num_folds = 5\n",
    "kf = KFold(n_splits=num_folds, shuffle=True, random_state=21)\n",
    "\n",
    "\n",
    "num_classes = 30\n",
    "\n",
    "accuracies = []\n",
    "\n",
    "for train_idx, test_idx in tqdm(kf.split(X)):\n",
    "    X_train, X_test = X[train_idx], X[test_idx]\n",
    "    y_train, y_test = y[train_idx], y[test_idx]\n",
    "    \n",
    "    softmax_model = SoftmaxRegression(num_classes=num_classes)\n",
    "    softmax_model.train(X_train, y_train)\n",
    "    \n",
    "    predictions = softmax_model.predict(X_test)\n",
    "\n",
    "    accuracy = np.mean(predictions == y_test)*100\n",
    "    accuracies.append(accuracy)\n",
    "\n",
    "average_accuracy = np.mean(accuracies)\n",
    "\n",
    "print(\"Average Accuracy: {:.2f}%\".format(average_accuracy))"
   ]
  },
  {
   "cell_type": "code",
   "execution_count": 10,
   "id": "0fdb5839",
   "metadata": {
    "execution": {
     "iopub.execute_input": "2023-11-08T06:07:20.581154Z",
     "iopub.status.busy": "2023-11-08T06:07:20.580218Z",
     "iopub.status.idle": "2023-11-08T06:07:20.924966Z",
     "shell.execute_reply": "2023-11-08T06:07:20.923833Z"
    },
    "papermill": {
     "duration": 0.368611,
     "end_time": "2023-11-08T06:07:20.927583",
     "exception": false,
     "start_time": "2023-11-08T06:07:20.558972",
     "status": "completed"
    },
    "tags": []
   },
   "outputs": [
    {
     "data": {
      "image/png": "[encoded data removed]",
      "text/plain": [
       "<Figure size 800x600 with 1 Axes>"
      ]
     },
     "metadata": {},
     "output_type": "display_data"
    }
   ],
   "source": [
    "plt.figure(figsize=(8, 6))\n",
    "plt.plot(range(1, num_folds + 1), accuracies, marker='o', linestyle='-', color='b')\n",
    "plt.xlabel('Fold')\n",
    "plt.ylabel('Accuracy')\n",
    "plt.title('Accuracy of SoftmaxRegression Across K-Fold Cross-Validation')\n",
    "plt.xticks(range(1, num_folds + 1))\n",
    "plt.grid(True)\n",
    "plt.show()\n"
   ]
  },
  {
   "cell_type": "code",
   "execution_count": 11,
   "id": "e0e6ca81",
   "metadata": {
    "execution": {
     "iopub.execute_input": "2023-11-08T06:07:20.949874Z",
     "iopub.status.busy": "2023-11-08T06:07:20.948982Z",
     "iopub.status.idle": "2023-11-08T06:07:20.959628Z",
     "shell.execute_reply": "2023-11-08T06:07:20.958789Z"
    },
    "papermill": {
     "duration": 0.024357,
     "end_time": "2023-11-08T06:07:20.961942",
     "exception": false,
     "start_time": "2023-11-08T06:07:20.937585",
     "status": "completed"
    },
    "tags": []
   },
   "outputs": [],
   "source": [
    "class SVM:\n",
    "    def __init__(self, learning_rate=0.05, lambda_param=0.03, epochs=100):\n",
    "        self.lr = learning_rate\n",
    "        self.lambda_param = lambda_param\n",
    "        self.epochs = epochs\n",
    "        self.w = None\n",
    "        self.b = None\n",
    "\n",
    "    def fit(self, X, y):\n",
    "        n_samples, n_features = X.shape\n",
    "        y_ = np.where(y <= 0, -1, 1)\n",
    "        self.w = np.zeros(n_features)\n",
    "        self.b = 0\n",
    "\n",
    "        for _ in range(self.epochs):\n",
    "            for idx, x_i in enumerate(X):\n",
    "                condition = y_[idx] * (np.dot(x_i, self.w) - self.b) >= 1\n",
    "                if condition:\n",
    "                    self.w -= self.lr * (2 * self.lambda_param * self.w)\n",
    "                else:\n",
    "                    self.w -= self.lr * (2 * self.lambda_param * self.w - np.dot(x_i, y_[idx]))\n",
    "                    self.b -= self.lr * y_[idx]\n",
    "\n",
    "    def predict(self, X):\n",
    "        return np.sign(np.dot(X, self.w) - self.b)"
   ]
  },
  {
   "cell_type": "markdown",
   "id": "ac93e3d0",
   "metadata": {
    "papermill": {
     "duration": 0.009628,
     "end_time": "2023-11-08T06:07:20.981505",
     "exception": false,
     "start_time": "2023-11-08T06:07:20.971877",
     "status": "completed"
    },
    "tags": []
   },
   "source": [
    "Here is our SVM algorithm class: we used learnig rate = 0.05, epochs=100"
   ]
  },
  {
   "cell_type": "code",
   "execution_count": 12,
   "id": "b248711e",
   "metadata": {
    "execution": {
     "iopub.execute_input": "2023-11-08T06:07:21.003838Z",
     "iopub.status.busy": "2023-11-08T06:07:21.002818Z",
     "iopub.status.idle": "2023-11-08T06:08:40.142034Z",
     "shell.execute_reply": "2023-11-08T06:08:40.140366Z"
    },
    "papermill": {
     "duration": 79.156215,
     "end_time": "2023-11-08T06:08:40.147610",
     "exception": false,
     "start_time": "2023-11-08T06:07:20.991395",
     "status": "completed"
    },
    "tags": []
   },
   "outputs": [
    {
     "name": "stderr",
     "output_type": "stream",
     "text": [
      "5it [01:19, 15.82s/it]"
     ]
    },
    {
     "name": "stdout",
     "output_type": "stream",
     "text": [
      "Average Accuracy: 3.50%\n"
     ]
    },
    {
     "name": "stderr",
     "output_type": "stream",
     "text": [
      "\n"
     ]
    }
   ],
   "source": [
    "accuracies = []\n",
    "\n",
    "for train_idx, test_idx in tqdm(kf.split(X)):\n",
    "    X_train, X_test = X[train_idx], X[test_idx]\n",
    "    y_train, y_test = y[train_idx], y[test_idx]\n",
    "    \n",
    "    svm = SVM()\n",
    "    svm.fit(X_train, y_train)\n",
    "    predictions = svm.predict(X_test)\n",
    "    accuracy = np.mean(predictions == y_test)*100\n",
    "    accuracies.append(accuracy)    \n",
    "\n",
    "average_accuracy = np.mean(accuracies)\n",
    "\n",
    "print(\"Average Accuracy: {:.2f}%\".format(average_accuracy))"
   ]
  },
  {
   "cell_type": "code",
   "execution_count": 13,
   "id": "246b51a4",
   "metadata": {
    "execution": {
     "iopub.execute_input": "2023-11-08T06:08:40.240598Z",
     "iopub.status.busy": "2023-11-08T06:08:40.240182Z",
     "iopub.status.idle": "2023-11-08T06:08:40.544927Z",
     "shell.execute_reply": "2023-11-08T06:08:40.543488Z"
    },
    "papermill": {
     "duration": 0.357969,
     "end_time": "2023-11-08T06:08:40.547632",
     "exception": false,
     "start_time": "2023-11-08T06:08:40.189663",
     "status": "completed"
    },
    "tags": []
   },
   "outputs": [
    {
     "data": {
      "image/png": "[encoded data removed]",
      "text/plain": [
       "<Figure size 800x600 with 1 Axes>"
      ]
     },
     "metadata": {},
     "output_type": "display_data"
    }
   ],
   "source": [
    "plt.figure(figsize=(8, 6))\n",
    "plt.plot(range(1, num_folds + 1), accuracies, marker='o', linestyle='-', color='b')\n",
    "plt.xlabel('Fold')\n",
    "plt.ylabel('Accuracy')\n",
    "plt.title('Accuracy of SVM Across K-Fold Cross-Validation')\n",
    "plt.xticks(range(1, num_folds + 1))\n",
    "plt.grid(True)\n",
    "plt.show()\n"
   ]
  },
  {
   "cell_type": "markdown",
   "id": "594811b1",
   "metadata": {
    "papermill": {
     "duration": 0.011228,
     "end_time": "2023-11-08T06:08:40.570792",
     "exception": false,
     "start_time": "2023-11-08T06:08:40.559564",
     "status": "completed"
    },
    "tags": []
   },
   "source": [
    "Both of the models showed bad results: SVM - 3.5% at average, Softmax Regression - 15%. I think, that SVM does not match this dataset, and we should use Softmax Regression."
   ]
  },
  {
   "cell_type": "markdown",
   "id": "31087c58",
   "metadata": {
    "papermill": {
     "duration": 0.011131,
     "end_time": "2023-11-08T06:08:40.593953",
     "exception": false,
     "start_time": "2023-11-08T06:08:40.582822",
     "status": "completed"
    },
    "tags": []
   },
   "source": [
    "Also, there are 2 factors that decrease our accuracy:\n",
    "\n",
    "1) There are only 890 elements(which is really few), and 30 classes(which is huge, when comparing to number of elements), and when we divide our data into test and train, it is really hard to save a balance\n",
    "\n",
    "2) Pictures initially had differrent sizes, and even differrent width/height ratios. When we did reshaping, we lost a lot of important information."
   ]
  },
  {
   "cell_type": "code",
   "execution_count": null,
   "id": "7155a59c",
   "metadata": {
    "papermill": {
     "duration": 0.011013,
     "end_time": "2023-11-08T06:08:40.616464",
     "exception": false,
     "start_time": "2023-11-08T06:08:40.605451",
     "status": "completed"
    },
    "tags": []
   },
   "outputs": [],
   "source": []
  }
 ],
 "metadata": {
  "kernelspec": {
   "display_name": "Python 3",
   "language": "python",
   "name": "python3"
  },
  "language_info": {
   "codemirror_mode": {
    "name": "ipython",
    "version": 3
   },
   "file_extension": ".py",
   "mimetype": "text/x-python",
   "name": "python",
   "nbconvert_exporter": "python",
   "pygments_lexer": "ipython3",
   "version": "3.10.12"
  },
  "papermill": {
   "default_parameters": {},
   "duration": 343.357911,
   "end_time": "2023-11-08T06:08:41.350054",
   "environment_variables": {},
   "exception": null,
   "input_path": "__notebook__.ipynb",
   "output_path": "__notebook__.ipynb",
   "parameters": {},
   "start_time": "2023-11-08T06:02:57.992143",
   "version": "2.4.0"
  }
 },
 "nbformat": 4,
 "nbformat_minor": 5
}
