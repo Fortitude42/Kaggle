{
 "cells": [
  {
   "cell_type": "code",
   "execution_count": 1,
   "id": "e10f7677",
   "metadata": {
    "_cell_guid": "b1076dfc-b9ad-4769-8c92-a6c4dae69d19",
    "_uuid": "8f2839f25d086af736a60e9eeb907d3b93b6e0e5",
    "execution": {
     "iopub.execute_input": "2023-03-10T11:57:36.093078Z",
     "iopub.status.busy": "2023-03-10T11:57:36.092643Z",
     "iopub.status.idle": "2023-03-10T11:57:36.102684Z",
     "shell.execute_reply": "2023-03-10T11:57:36.101694Z"
    },
    "papermill": {
     "duration": 0.019036,
     "end_time": "2023-03-10T11:57:36.105577",
     "exception": false,
     "start_time": "2023-03-10T11:57:36.086541",
     "status": "completed"
    },
    "tags": []
   },
   "outputs": [],
   "source": [
    "import pandas as pd"
   ]
  },
  {
   "cell_type": "code",
   "execution_count": 2,
   "id": "33b0e475",
   "metadata": {
    "execution": {
     "iopub.execute_input": "2023-03-10T11:57:36.114296Z",
     "iopub.status.busy": "2023-03-10T11:57:36.113839Z",
     "iopub.status.idle": "2023-03-10T11:57:41.978670Z",
     "shell.execute_reply": "2023-03-10T11:57:41.977404Z"
    },
    "papermill": {
     "duration": 5.872656,
     "end_time": "2023-03-10T11:57:41.981757",
     "exception": false,
     "start_time": "2023-03-10T11:57:36.109101",
     "status": "completed"
    },
    "tags": []
   },
   "outputs": [],
   "source": [
    "train_df = pd.read_csv('/kaggle/input/digit-recognizer/train.csv')\n",
    "test_df = pd.read_csv('/kaggle/input/digit-recognizer/test.csv')"
   ]
  },
  {
   "cell_type": "code",
   "execution_count": 3,
   "id": "a0de02e6",
   "metadata": {
    "execution": {
     "iopub.execute_input": "2023-03-10T11:57:41.991208Z",
     "iopub.status.busy": "2023-03-10T11:57:41.990753Z",
     "iopub.status.idle": "2023-03-10T11:57:41.999311Z",
     "shell.execute_reply": "2023-03-10T11:57:41.997773Z"
    },
    "papermill": {
     "duration": 0.016806,
     "end_time": "2023-03-10T11:57:42.002042",
     "exception": false,
     "start_time": "2023-03-10T11:57:41.985236",
     "status": "completed"
    },
    "tags": []
   },
   "outputs": [
    {
     "data": {
      "text/plain": [
       "((42000, 785), (28000, 784))"
      ]
     },
     "execution_count": 3,
     "metadata": {},
     "output_type": "execute_result"
    }
   ],
   "source": [
    "train_df.shape, test_df.shape"
   ]
  },
  {
   "cell_type": "code",
   "execution_count": 4,
   "id": "ffa8686c",
   "metadata": {
    "execution": {
     "iopub.execute_input": "2023-03-10T11:57:42.010899Z",
     "iopub.status.busy": "2023-03-10T11:57:42.010436Z",
     "iopub.status.idle": "2023-03-10T11:57:49.008271Z",
     "shell.execute_reply": "2023-03-10T11:57:49.007042Z"
    },
    "papermill": {
     "duration": 7.005742,
     "end_time": "2023-03-10T11:57:49.011424",
     "exception": false,
     "start_time": "2023-03-10T11:57:42.005682",
     "status": "completed"
    },
    "tags": []
   },
   "outputs": [],
   "source": [
    "from torch.utils.data import Dataset, DataLoader\n",
    "from torch import tensor\n",
    "import torch\n",
    "\n",
    "    \n",
    "def get_x(df):\n",
    "    return tensor(df.values[:, :28*28]).reshape(df.shape[0], 1, 28, 28).float()\n",
    "\n",
    "class ImageDataset(Dataset):\n",
    "    def __init__(self, df):\n",
    "        self.X = get_x(df)\n",
    "        self.Y = torch.zeros(10*df.shape[0]).reshape(df.shape[0], 10)\n",
    "        for i in range(df.shape[0]):\n",
    "            self.Y[i][df.iloc[i][-1]] = 1\n",
    "        \n",
    "    def __len__(self):\n",
    "        return self.X.shape[0]\n",
    "    \n",
    "    def __getitem__(self, ind):\n",
    "        return self.X[ind], self.Y[ind]\n",
    "    \n",
    "dataset = ImageDataset(train_df)\n",
    "dataloader = DataLoader(dataset, batch_size=32)"
   ]
  },
  {
   "cell_type": "code",
   "execution_count": 5,
   "id": "8f5b5313",
   "metadata": {
    "execution": {
     "iopub.execute_input": "2023-03-10T11:57:49.020243Z",
     "iopub.status.busy": "2023-03-10T11:57:49.019636Z",
     "iopub.status.idle": "2023-03-10T11:57:49.028724Z",
     "shell.execute_reply": "2023-03-10T11:57:49.027634Z"
    },
    "papermill": {
     "duration": 0.016392,
     "end_time": "2023-03-10T11:57:49.031303",
     "exception": false,
     "start_time": "2023-03-10T11:57:49.014911",
     "status": "completed"
    },
    "tags": []
   },
   "outputs": [],
   "source": [
    "from torch import nn, optim\n",
    "class Net(nn.Module):\n",
    "    def __init__(self):\n",
    "        super(Net, self).__init__()\n",
    "        self.fc1 = nn.Sequential(\n",
    "            nn.Conv2d(in_channels=1, out_channels=6, kernel_size=5, padding=2),\n",
    "            nn.ReLU(),\n",
    "            nn.MaxPool2d(kernel_size=2, stride=2),\n",
    "            nn.ReLU(),\n",
    "            nn.Conv2d(in_channels=6, out_channels=16, kernel_size=5), \n",
    "            nn.ReLU(),\n",
    "            nn.MaxPool2d(kernel_size=2, stride=2),\n",
    "            nn.Flatten(),\n",
    "            nn.LazyLinear(120), \n",
    "            nn.ReLU(),\n",
    "            nn.LazyLinear(84), \n",
    "            nn.ReLU(),\n",
    "            nn.LazyLinear(10)\n",
    "        )\n",
    "    \n",
    "    def forward(self, x):\n",
    "        return self.fc1(x)"
   ]
  },
  {
   "cell_type": "code",
   "execution_count": 6,
   "id": "71257897",
   "metadata": {
    "execution": {
     "iopub.execute_input": "2023-03-10T11:57:49.039824Z",
     "iopub.status.busy": "2023-03-10T11:57:49.039416Z",
     "iopub.status.idle": "2023-03-10T11:57:49.059459Z",
     "shell.execute_reply": "2023-03-10T11:57:49.057813Z"
    },
    "papermill": {
     "duration": 0.029226,
     "end_time": "2023-03-10T11:57:49.063856",
     "exception": false,
     "start_time": "2023-03-10T11:57:49.034630",
     "status": "completed"
    },
    "tags": []
   },
   "outputs": [
    {
     "name": "stderr",
     "output_type": "stream",
     "text": [
      "/opt/conda/lib/python3.7/site-packages/torch/nn/modules/lazy.py:180: UserWarning: Lazy modules are a new feature under heavy development so changes to the API or functionality can happen at any moment.\n",
      "  warnings.warn('Lazy modules are a new feature under heavy development '\n"
     ]
    }
   ],
   "source": [
    "model = Net()\n",
    "optimizer = optim.Adam(model.parameters(), lr=0.001, weight_decay=5e-4)\n",
    "criterion = nn.CrossEntropyLoss()"
   ]
  },
  {
   "cell_type": "code",
   "execution_count": 7,
   "id": "5f370573",
   "metadata": {
    "execution": {
     "iopub.execute_input": "2023-03-10T11:57:49.073645Z",
     "iopub.status.busy": "2023-03-10T11:57:49.073195Z",
     "iopub.status.idle": "2023-03-10T12:05:17.564387Z",
     "shell.execute_reply": "2023-03-10T12:05:17.562860Z"
    },
    "papermill": {
     "duration": 448.499735,
     "end_time": "2023-03-10T12:05:17.567586",
     "exception": false,
     "start_time": "2023-03-10T11:57:49.067851",
     "status": "completed"
    },
    "tags": []
   },
   "outputs": [
    {
     "name": "stdout",
     "output_type": "stream",
     "text": [
      "0\n",
      "1\n",
      "2\n",
      "3\n",
      "4\n",
      "5\n",
      "6\n",
      "7\n",
      "8\n",
      "9\n",
      "10\n",
      "11\n",
      "12\n",
      "13\n",
      "14\n",
      "15\n",
      "16\n",
      "17\n",
      "18\n",
      "19\n",
      "20\n",
      "21\n",
      "22\n",
      "23\n",
      "24\n",
      "25\n",
      "26\n",
      "27\n",
      "28\n",
      "29\n"
     ]
    }
   ],
   "source": [
    "for epoch in range(30):\n",
    "    print(epoch)\n",
    "    correct = 0\n",
    "    total = 0\n",
    "    for batch in dataloader:\n",
    "        x_tensor, y_tensor = batch        \n",
    "        y_pred = model(x_tensor)        \n",
    "        loss = criterion(y_pred, y_tensor)\n",
    "        \n",
    "        assert not torch.isnan(loss)\n",
    "            \n",
    "        \n",
    "        optimizer.zero_grad()\n",
    "        loss.backward()\n",
    "        optimizer.step()        "
   ]
  },
  {
   "cell_type": "code",
   "execution_count": 8,
   "id": "df4b54cb",
   "metadata": {
    "execution": {
     "iopub.execute_input": "2023-03-10T12:05:17.580485Z",
     "iopub.status.busy": "2023-03-10T12:05:17.579728Z",
     "iopub.status.idle": "2023-03-10T12:05:20.108632Z",
     "shell.execute_reply": "2023-03-10T12:05:20.107286Z"
    },
    "papermill": {
     "duration": 2.539047,
     "end_time": "2023-03-10T12:05:20.111864",
     "exception": false,
     "start_time": "2023-03-10T12:05:17.572817",
     "status": "completed"
    },
    "tags": []
   },
   "outputs": [],
   "source": [
    "x = get_x(test_df)\n",
    "y = model(x)\n",
    "predicted_classes = torch.argmax(y, dim=1)\n",
    "result = pd.DataFrame({'ImageId': test_df.index+1, 'Label': predicted_classes})\n",
    "result.to_csv('sub.csv', index=False)"
   ]
  },
  {
   "cell_type": "code",
   "execution_count": null,
   "id": "7ad7772d",
   "metadata": {
    "papermill": {
     "duration": 0.005031,
     "end_time": "2023-03-10T12:05:20.122373",
     "exception": false,
     "start_time": "2023-03-10T12:05:20.117342",
     "status": "completed"
    },
    "tags": []
   },
   "outputs": [],
   "source": []
  }
 ],
 "metadata": {
  "kernelspec": {
   "display_name": "Python 3",
   "language": "python",
   "name": "python3"
  },
  "language_info": {
   "codemirror_mode": {
    "name": "ipython",
    "version": 3
   },
   "file_extension": ".py",
   "mimetype": "text/x-python",
   "name": "python",
   "nbconvert_exporter": "python",
   "pygments_lexer": "ipython3",
   "version": "3.7.12"
  },
  "papermill": {
   "default_parameters": {},
   "duration": 475.812687,
   "end_time": "2023-03-10T12:05:21.254073",
   "environment_variables": {},
   "exception": null,
   "input_path": "__notebook__.ipynb",
   "output_path": "__notebook__.ipynb",
   "parameters": {},
   "start_time": "2023-03-10T11:57:25.441386",
   "version": "2.4.0"
  }
 },
 "nbformat": 4,
 "nbformat_minor": 5
}
